{
 "cells": [
  {
   "cell_type": "code",
   "execution_count": 26,
   "id": "c7cfdaad-5f84-444a-b023-0c27fa933a7b",
   "metadata": {
    "tags": []
   },
   "outputs": [],
   "source": [
    "import numpy as np\n",
    "import pandas as pd\n",
    "\n",
    "class Die:\n",
    "    def __init__(self,faces: np.array):\n",
    "        \"\"\"Initialization method, ensure that faces is a NumPy array of distinct int/float\"\"\"\n",
    "        #first make sure faces is a NumPy array\n",
    "        if type(faces) != np.ndarray:\n",
    "            raise TypeError(\"Parameter faces must be a NumPy array\")\n",
    "        \n",
    "        #TODO: ??Maybe ensure that it is string/numeric dtype?\n",
    "        #If so use np.issubdtype \n",
    "        \n",
    "        #Make sure the values of faces are unique\n",
    "        if faces.size != np.unique(faces).size:\n",
    "            raise ValueError(\"The values of input faces must be unique\")\n",
    "        \n",
    "        base_weight = [1.0]*faces.size\n",
    "        self.df = pd.DataFrame(index=faces, data={'Weight':base_weight})\n",
    "        \n",
    "    def change_weight(self,fval,weight):\n",
    "        \"\"\"Method to change the weight of a single side.  Must ensure the fval is a valid index and the weight can be cast as numeric\"\"\"\n",
    "        #make sure it is a valid face name\n",
    "        if fval not in self.df.index:\n",
    "            raise IndexError(\"Your fval is not a valid face name\")\n",
    "        #Make sure the weight can be cast to a numeric\n",
    "        try:\n",
    "            float(weight)\n",
    "        except ValueError :\n",
    "            raise TypeError(\"weight must be able to be converted to a number\")\n",
    "            \n",
    "        self.df.loc[fval,'Weight'] = float(weight)\n",
    "        \n",
    "    def roll_die(self,num_rolls=1):\n",
    "        #todo, update to get working\n",
    "        tmp = list(self.df.sample(n=num_rolls,replace=True,weights=self.df['Weight']).index)\n",
    "        return tmp\n",
    "    \n",
    "    def show_die(self):\n",
    "        \"\"\"Method returning the data frame representing the die\"\"\"\n",
    "        return self.df\n",
    "    "
   ]
  },
  {
   "cell_type": "code",
   "execution_count": 27,
   "id": "ec8846a6-58a4-40b3-a11b-ccede26924eb",
   "metadata": {
    "tags": []
   },
   "outputs": [
    {
     "data": {
      "text/plain": [
       "array(['A', 'B', 'C', 'D', 'E', 'F'], dtype='<U1')"
      ]
     },
     "execution_count": 27,
     "metadata": {},
     "output_type": "execute_result"
    }
   ],
   "source": [
    "ind = np.array(['A','B','C','D','E','F'])\n",
    "ind"
   ]
  },
  {
   "cell_type": "code",
   "execution_count": null,
   "id": "de57f2f8-0c92-492f-b584-d4aa69546856",
   "metadata": {},
   "outputs": [],
   "source": [
    "\n"
   ]
  },
  {
   "cell_type": "code",
   "execution_count": 28,
   "id": "bc9e4041-baa1-4c08-95fc-66aae7024629",
   "metadata": {
    "tags": []
   },
   "outputs": [],
   "source": [
    "test2=Die(ind)"
   ]
  },
  {
   "cell_type": "code",
   "execution_count": 29,
   "id": "d5c7dc91-ca23-47dd-9645-a5dbe35a1717",
   "metadata": {
    "tags": []
   },
   "outputs": [
    {
     "data": {
      "text/html": [
       "<div>\n",
       "<style scoped>\n",
       "    .dataframe tbody tr th:only-of-type {\n",
       "        vertical-align: middle;\n",
       "    }\n",
       "\n",
       "    .dataframe tbody tr th {\n",
       "        vertical-align: top;\n",
       "    }\n",
       "\n",
       "    .dataframe thead th {\n",
       "        text-align: right;\n",
       "    }\n",
       "</style>\n",
       "<table border=\"1\" class=\"dataframe\">\n",
       "  <thead>\n",
       "    <tr style=\"text-align: right;\">\n",
       "      <th></th>\n",
       "      <th>Weight</th>\n",
       "    </tr>\n",
       "  </thead>\n",
       "  <tbody>\n",
       "    <tr>\n",
       "      <th>A</th>\n",
       "      <td>1.0</td>\n",
       "    </tr>\n",
       "    <tr>\n",
       "      <th>B</th>\n",
       "      <td>1.0</td>\n",
       "    </tr>\n",
       "    <tr>\n",
       "      <th>C</th>\n",
       "      <td>1.0</td>\n",
       "    </tr>\n",
       "    <tr>\n",
       "      <th>D</th>\n",
       "      <td>1.0</td>\n",
       "    </tr>\n",
       "    <tr>\n",
       "      <th>E</th>\n",
       "      <td>1.0</td>\n",
       "    </tr>\n",
       "    <tr>\n",
       "      <th>F</th>\n",
       "      <td>1.0</td>\n",
       "    </tr>\n",
       "  </tbody>\n",
       "</table>\n",
       "</div>"
      ],
      "text/plain": [
       "   Weight\n",
       "A     1.0\n",
       "B     1.0\n",
       "C     1.0\n",
       "D     1.0\n",
       "E     1.0\n",
       "F     1.0"
      ]
     },
     "execution_count": 29,
     "metadata": {},
     "output_type": "execute_result"
    }
   ],
   "source": [
    "test2.show_die()"
   ]
  },
  {
   "cell_type": "code",
   "execution_count": 30,
   "id": "51324aff-1472-4dc2-a7ba-a3fad3bd12aa",
   "metadata": {
    "tags": []
   },
   "outputs": [
    {
     "data": {
      "text/html": [
       "<div>\n",
       "<style scoped>\n",
       "    .dataframe tbody tr th:only-of-type {\n",
       "        vertical-align: middle;\n",
       "    }\n",
       "\n",
       "    .dataframe tbody tr th {\n",
       "        vertical-align: top;\n",
       "    }\n",
       "\n",
       "    .dataframe thead th {\n",
       "        text-align: right;\n",
       "    }\n",
       "</style>\n",
       "<table border=\"1\" class=\"dataframe\">\n",
       "  <thead>\n",
       "    <tr style=\"text-align: right;\">\n",
       "      <th></th>\n",
       "      <th>Weight</th>\n",
       "    </tr>\n",
       "  </thead>\n",
       "  <tbody>\n",
       "    <tr>\n",
       "      <th>A</th>\n",
       "      <td>1.0</td>\n",
       "    </tr>\n",
       "    <tr>\n",
       "      <th>B</th>\n",
       "      <td>1.0</td>\n",
       "    </tr>\n",
       "    <tr>\n",
       "      <th>C</th>\n",
       "      <td>1.0</td>\n",
       "    </tr>\n",
       "    <tr>\n",
       "      <th>D</th>\n",
       "      <td>1.0</td>\n",
       "    </tr>\n",
       "    <tr>\n",
       "      <th>E</th>\n",
       "      <td>1.0</td>\n",
       "    </tr>\n",
       "    <tr>\n",
       "      <th>F</th>\n",
       "      <td>3.0</td>\n",
       "    </tr>\n",
       "  </tbody>\n",
       "</table>\n",
       "</div>"
      ],
      "text/plain": [
       "   Weight\n",
       "A     1.0\n",
       "B     1.0\n",
       "C     1.0\n",
       "D     1.0\n",
       "E     1.0\n",
       "F     3.0"
      ]
     },
     "execution_count": 30,
     "metadata": {},
     "output_type": "execute_result"
    }
   ],
   "source": [
    "test2.change_weight(\"F\",3)\n",
    "test2.show_die()"
   ]
  },
  {
   "cell_type": "code",
   "execution_count": 31,
   "id": "fec159dc-b731-40fd-92cf-02e204480acc",
   "metadata": {
    "tags": []
   },
   "outputs": [
    {
     "data": {
      "text/plain": [
       "list"
      ]
     },
     "execution_count": 31,
     "metadata": {},
     "output_type": "execute_result"
    }
   ],
   "source": [
    "type(test2.roll_die(3))\n"
   ]
  },
  {
   "cell_type": "code",
   "execution_count": null,
   "id": "55a3ab3a-4f08-4be3-ac3d-b7079bd0c12f",
   "metadata": {
    "tags": []
   },
   "outputs": [
    {
     "ename": "NameError",
     "evalue": "name 'test' is not defined",
     "output_type": "error",
     "traceback": [
      "\u001b[1;31m---------------------------------------------------------------------------\u001b[0m",
      "\u001b[1;31mNameError\u001b[0m                                 Traceback (most recent call last)",
      "Cell \u001b[1;32mIn[32], line 1\u001b[0m\n\u001b[1;32m----> 1\u001b[0m \u001b[43mtest\u001b[49m\u001b[38;5;241m.\u001b[39mdf\u001b[38;5;241m.\u001b[39msample(n\u001b[38;5;241m=\u001b[39m\u001b[38;5;241m10\u001b[39m,replace\u001b[38;5;241m=\u001b[39m\u001b[38;5;28;01mTrue\u001b[39;00m,weights\u001b[38;5;241m=\u001b[39mtest\u001b[38;5;241m.\u001b[39mdf[\u001b[38;5;124m'\u001b[39m\u001b[38;5;124mWeight\u001b[39m\u001b[38;5;124m'\u001b[39m])\u001b[38;5;241m.\u001b[39mindex\n",
      "\u001b[1;31mNameError\u001b[0m: name 'test' is not defined"
     ]
    }
   ],
   "source": [
    "#test.df.sample(n=10,replace=True,weights=test.df['Weight']).index"
   ]
  },
  {
   "cell_type": "code",
   "execution_count": 33,
   "id": "89922d52-2fff-4d54-a42d-a10f2354c0a6",
   "metadata": {
    "tags": []
   },
   "outputs": [
    {
     "ename": "NameError",
     "evalue": "name 'test' is not defined",
     "output_type": "error",
     "traceback": [
      "\u001b[1;31m---------------------------------------------------------------------------\u001b[0m",
      "\u001b[1;31mNameError\u001b[0m                                 Traceback (most recent call last)",
      "Cell \u001b[1;32mIn[33], line 3\u001b[0m\n\u001b[0;32m      1\u001b[0m \u001b[38;5;28;01mimport\u001b[39;00m\u001b[38;5;250m \u001b[39m\u001b[38;5;21;01mrandom\u001b[39;00m\n\u001b[1;32m----> 3\u001b[0m tst\u001b[38;5;241m=\u001b[39mrandom\u001b[38;5;241m.\u001b[39mchoices(population\u001b[38;5;241m=\u001b[39m\u001b[43mtest\u001b[49m\u001b[38;5;241m.\u001b[39mdf\u001b[38;5;241m.\u001b[39mindex,weights\u001b[38;5;241m=\u001b[39mtest\u001b[38;5;241m.\u001b[39mdf[\u001b[38;5;124m'\u001b[39m\u001b[38;5;124mWeight\u001b[39m\u001b[38;5;124m'\u001b[39m], k\u001b[38;5;241m=\u001b[39m\u001b[38;5;241m5\u001b[39m)\n\u001b[0;32m      4\u001b[0m tst\n\u001b[0;32m      5\u001b[0m \u001b[38;5;66;03m#test.df['Weight']\u001b[39;00m\n",
      "\u001b[1;31mNameError\u001b[0m: name 'test' is not defined"
     ]
    }
   ],
   "source": [
    "import random\n",
    "\n",
    "tst=random.choices(population=test.df.index,weights=test.df['Weight'], k=5)\n",
    "tst\n",
    "#test.df['Weight']"
   ]
  },
  {
   "cell_type": "code",
   "execution_count": 38,
   "id": "10fdb6da-1498-49f3-80eb-281f74926a2c",
   "metadata": {
    "tags": []
   },
   "outputs": [],
   "source": [
    "test=Die(ind)\n",
    "test2=Die(ind)\n",
    "test3=Die(ind)\n",
    "test4=Die(ind)\n"
   ]
  },
  {
   "cell_type": "code",
   "execution_count": 39,
   "id": "1e642b7c-286c-4ea3-b00b-551d71c45423",
   "metadata": {
    "tags": []
   },
   "outputs": [
    {
     "data": {
      "text/plain": [
       "list"
      ]
     },
     "execution_count": 39,
     "metadata": {},
     "output_type": "execute_result"
    }
   ],
   "source": [
    "game_test=[test,test2,test3,test4]\n",
    "type(game_test)"
   ]
  },
  {
   "cell_type": "code",
   "execution_count": 40,
   "id": "87d138fe-44ad-4588-a2e4-93b1c791401a",
   "metadata": {
    "tags": []
   },
   "outputs": [
    {
     "data": {
      "text/html": [
       "<div>\n",
       "<style scoped>\n",
       "    .dataframe tbody tr th:only-of-type {\n",
       "        vertical-align: middle;\n",
       "    }\n",
       "\n",
       "    .dataframe tbody tr th {\n",
       "        vertical-align: top;\n",
       "    }\n",
       "\n",
       "    .dataframe thead th {\n",
       "        text-align: right;\n",
       "    }\n",
       "</style>\n",
       "<table border=\"1\" class=\"dataframe\">\n",
       "  <thead>\n",
       "    <tr style=\"text-align: right;\">\n",
       "      <th></th>\n",
       "      <th>Weight</th>\n",
       "    </tr>\n",
       "  </thead>\n",
       "  <tbody>\n",
       "    <tr>\n",
       "      <th>A</th>\n",
       "      <td>1.0</td>\n",
       "    </tr>\n",
       "    <tr>\n",
       "      <th>B</th>\n",
       "      <td>1.0</td>\n",
       "    </tr>\n",
       "    <tr>\n",
       "      <th>C</th>\n",
       "      <td>1.0</td>\n",
       "    </tr>\n",
       "    <tr>\n",
       "      <th>D</th>\n",
       "      <td>1.0</td>\n",
       "    </tr>\n",
       "    <tr>\n",
       "      <th>E</th>\n",
       "      <td>1.0</td>\n",
       "    </tr>\n",
       "    <tr>\n",
       "      <th>F</th>\n",
       "      <td>1.0</td>\n",
       "    </tr>\n",
       "  </tbody>\n",
       "</table>\n",
       "</div>"
      ],
      "text/plain": [
       "   Weight\n",
       "A     1.0\n",
       "B     1.0\n",
       "C     1.0\n",
       "D     1.0\n",
       "E     1.0\n",
       "F     1.0"
      ]
     },
     "execution_count": 40,
     "metadata": {},
     "output_type": "execute_result"
    }
   ],
   "source": [
    "game_test[0].show_die()"
   ]
  },
  {
   "cell_type": "code",
   "execution_count": 41,
   "id": "572cb6f9-d7de-4fc2-b37b-e37150711838",
   "metadata": {
    "tags": []
   },
   "outputs": [
    {
     "name": "stdout",
     "output_type": "stream",
     "text": [
      "0\n",
      "1\n",
      "2\n",
      "3\n"
     ]
    }
   ],
   "source": [
    "for x in game_test:\n",
    "    print(game_test.index(x))"
   ]
  },
  {
   "cell_type": "code",
   "execution_count": 42,
   "id": "ffd07d61-9ddc-466e-958a-ead5beab6dee",
   "metadata": {
    "tags": []
   },
   "outputs": [
    {
     "name": "stdout",
     "output_type": "stream",
     "text": [
      "<__main__.Die object at 0x0000026FB1875BD0>\n",
      "<__main__.Die object at 0x0000026FB1875E50>\n",
      "<__main__.Die object at 0x0000026FB1A08510>\n",
      "<__main__.Die object at 0x0000026FB1A082B0>\n"
     ]
    },
    {
     "data": {
      "text/html": [
       "<div>\n",
       "<style scoped>\n",
       "    .dataframe tbody tr th:only-of-type {\n",
       "        vertical-align: middle;\n",
       "    }\n",
       "\n",
       "    .dataframe tbody tr th {\n",
       "        vertical-align: top;\n",
       "    }\n",
       "\n",
       "    .dataframe thead th {\n",
       "        text-align: right;\n",
       "    }\n",
       "</style>\n",
       "<table border=\"1\" class=\"dataframe\">\n",
       "  <thead>\n",
       "    <tr style=\"text-align: right;\">\n",
       "      <th></th>\n",
       "      <th>0</th>\n",
       "      <th>1</th>\n",
       "      <th>2</th>\n",
       "      <th>3</th>\n",
       "    </tr>\n",
       "  </thead>\n",
       "  <tbody>\n",
       "    <tr>\n",
       "      <th>0</th>\n",
       "      <td>A</td>\n",
       "      <td>B</td>\n",
       "      <td>B</td>\n",
       "      <td>F</td>\n",
       "    </tr>\n",
       "    <tr>\n",
       "      <th>1</th>\n",
       "      <td>A</td>\n",
       "      <td>F</td>\n",
       "      <td>D</td>\n",
       "      <td>B</td>\n",
       "    </tr>\n",
       "    <tr>\n",
       "      <th>2</th>\n",
       "      <td>A</td>\n",
       "      <td>C</td>\n",
       "      <td>F</td>\n",
       "      <td>D</td>\n",
       "    </tr>\n",
       "    <tr>\n",
       "      <th>3</th>\n",
       "      <td>D</td>\n",
       "      <td>C</td>\n",
       "      <td>A</td>\n",
       "      <td>E</td>\n",
       "    </tr>\n",
       "  </tbody>\n",
       "</table>\n",
       "</div>"
      ],
      "text/plain": [
       "   0  1  2  3\n",
       "0  A  B  B  F\n",
       "1  A  F  D  B\n",
       "2  A  C  F  D\n",
       "3  D  C  A  E"
      ]
     },
     "execution_count": 42,
     "metadata": {},
     "output_type": "execute_result"
    }
   ],
   "source": [
    "num_rolls=4\n",
    "\n",
    "result = dict()\n",
    "\n",
    "for x in game_test:\n",
    "    key=game_test.index(x)\n",
    "    vals=x.roll_die(num_rolls)\n",
    "    result.update({key:vals})\n",
    "    print(x)\n",
    "\n",
    "pd.DataFrame(result)\n",
    "    "
   ]
  },
  {
   "cell_type": "code",
   "execution_count": null,
   "id": "162a0d4e-e6e5-4530-a53f-697b57dfc343",
   "metadata": {
    "tags": []
   },
   "outputs": [
    {
     "data": {
      "text/plain": [
       "'[1, 2, 3, 4]'"
      ]
     },
     "execution_count": 143,
     "metadata": {},
     "output_type": "execute_result"
    }
   ],
   "source": [
    "f=list(range(1,num_rolls+1))\n",
    "\n"
   ]
  },
  {
   "cell_type": "code",
   "execution_count": null,
   "id": "5241521b-1e16-449e-9f46-4e1a4761b6ad",
   "metadata": {},
   "outputs": [],
   "source": []
  },
  {
   "cell_type": "code",
   "execution_count": 60,
   "id": "a6a6d91c-d6ff-48ac-b25f-7f20755100f7",
   "metadata": {
    "tags": []
   },
   "outputs": [],
   "source": [
    "\n",
    "class Game:\n",
    "    \"\"\"Game class expecting a list of die\"\"\"\n",
    "    \n",
    "    def __init__(self,dice):\n",
    "        self.dice=dice\n",
    "    \n",
    "    def play(self, num_rolls):\n",
    "        \"\"\"Takes the number of rolls as only parameter.  Creates/updates the outcome object with the results\"\"\"\n",
    "        result_d = dict()\n",
    "        for i, die in enumerate(self.dice):\n",
    "            vals = die.roll_die(num_rolls)\n",
    "            result_d[i] = vals\n",
    "            \n",
    "        # Create a DataFrame from the dictionary of results\n",
    "        self._outcome = pd.DataFrame(result_d)\n",
    "        self._outcome.index.name = 'Roll_Num'\n",
    "        self._outcome.columns.name = 'Die_Num'\n",
    "        \n",
    "\n",
    "        \n",
    "    def show_outcome(self,view=\"wide\"):\n",
    "        \"\"\"Method returning the result. Options include wide and narrow, default value of wide. \n",
    "        Narrow is a stacked version of the wide format.\n",
    "        \n",
    "            \n",
    "        Raises:\n",
    "            ValueError: If view parameter is not 'wide' or 'narrow'\n",
    "        \"\"\"\n",
    "        if view.upper() == \"WIDE\":\n",
    "            return self._outcome\n",
    "        elif view.upper() == \"NARROW\":\n",
    "            # Stack the columns to create a MultiIndex with roll number and die number\n",
    "            narrow_df = self._outcome.stack().reset_index()\n",
    "            # Rename columns appropriately\n",
    "            narrow_df.columns = ['Roll Number', 'Die Number', 'Outcome']\n",
    "            # Set MultiIndex using roll number and die number\n",
    "            narrow_df = narrow_df.set_index(['Roll Number', 'Die Number'])\n",
    "            return narrow_df\n",
    "        else:\n",
    "            raise ValueError(\"view must be either wide or narrow\")\n",
    "\n",
    "\n"
   ]
  },
  {
   "cell_type": "code",
   "execution_count": null,
   "id": "cc5b8376-e4ed-437a-9a0a-352e999295b8",
   "metadata": {},
   "outputs": [],
   "source": []
  },
  {
   "cell_type": "code",
   "execution_count": 61,
   "id": "f7488ef7-1281-4e35-b224-d1b629a475c4",
   "metadata": {
    "tags": []
   },
   "outputs": [],
   "source": [
    "test2.show_die()\n",
    "\n",
    "tmp_lst = [test2,test2]\n",
    "\n",
    "#test_game=Game("
   ]
  },
  {
   "cell_type": "code",
   "execution_count": 62,
   "id": "4411331f-b705-44ba-9984-f3def6217915",
   "metadata": {
    "tags": []
   },
   "outputs": [],
   "source": [
    "test_game = Game(tmp_lst)\n",
    "\n",
    "test_game.play(4)"
   ]
  },
  {
   "cell_type": "code",
   "execution_count": 63,
   "id": "22e74227",
   "metadata": {},
   "outputs": [
    {
     "data": {
      "text/html": [
       "<div>\n",
       "<style scoped>\n",
       "    .dataframe tbody tr th:only-of-type {\n",
       "        vertical-align: middle;\n",
       "    }\n",
       "\n",
       "    .dataframe tbody tr th {\n",
       "        vertical-align: top;\n",
       "    }\n",
       "\n",
       "    .dataframe thead th {\n",
       "        text-align: right;\n",
       "    }\n",
       "</style>\n",
       "<table border=\"1\" class=\"dataframe\">\n",
       "  <thead>\n",
       "    <tr style=\"text-align: right;\">\n",
       "      <th>Die_Num</th>\n",
       "      <th>0</th>\n",
       "      <th>1</th>\n",
       "    </tr>\n",
       "    <tr>\n",
       "      <th>Roll_Num</th>\n",
       "      <th></th>\n",
       "      <th></th>\n",
       "    </tr>\n",
       "  </thead>\n",
       "  <tbody>\n",
       "    <tr>\n",
       "      <th>0</th>\n",
       "      <td>B</td>\n",
       "      <td>F</td>\n",
       "    </tr>\n",
       "    <tr>\n",
       "      <th>1</th>\n",
       "      <td>C</td>\n",
       "      <td>E</td>\n",
       "    </tr>\n",
       "    <tr>\n",
       "      <th>2</th>\n",
       "      <td>C</td>\n",
       "      <td>C</td>\n",
       "    </tr>\n",
       "    <tr>\n",
       "      <th>3</th>\n",
       "      <td>D</td>\n",
       "      <td>E</td>\n",
       "    </tr>\n",
       "  </tbody>\n",
       "</table>\n",
       "</div>"
      ],
      "text/plain": [
       "Die_Num   0  1\n",
       "Roll_Num      \n",
       "0         B  F\n",
       "1         C  E\n",
       "2         C  C\n",
       "3         D  E"
      ]
     },
     "execution_count": 63,
     "metadata": {},
     "output_type": "execute_result"
    }
   ],
   "source": [
    "t=test_game.show_outcome(\"wide\")\n",
    "t"
   ]
  },
  {
   "cell_type": "code",
   "execution_count": null,
   "id": "063b2609",
   "metadata": {},
   "outputs": [
    {
     "data": {
      "text/plain": [
       "pandas.core.frame.DataFrame"
      ]
     },
     "execution_count": 74,
     "metadata": {},
     "output_type": "execute_result"
    }
   ],
   "source": [
    "z=test_game.show_outcome(\"narrow\")\n",
    "z"
   ]
  },
  {
   "cell_type": "code",
   "execution_count": null,
   "id": "8fde1747",
   "metadata": {},
   "outputs": [
    {
     "data": {
      "text/plain": [
       "True"
      ]
     },
     "execution_count": 76,
     "metadata": {},
     "output_type": "execute_result"
    }
   ],
   "source": []
  },
  {
   "cell_type": "markdown",
   "id": "12a67d6d",
   "metadata": {},
   "source": []
  },
  {
   "cell_type": "code",
   "execution_count": 67,
   "id": "07dbd789",
   "metadata": {},
   "outputs": [
    {
     "data": {
      "text/plain": [
       "MultiIndex([('B', 'F'),\n",
       "            ('C', 'E'),\n",
       "            ('C', 'C'),\n",
       "            ('D', 'E')],\n",
       "           names=[0, 1])"
      ]
     },
     "execution_count": 67,
     "metadata": {},
     "output_type": "execute_result"
    }
   ],
   "source": [
    "s=pd.MultiIndex.from_frame(t)\n",
    "\n",
    "s"
   ]
  },
  {
   "cell_type": "code",
   "execution_count": null,
   "id": "42627150",
   "metadata": {},
   "outputs": [
    {
     "name": "stdout",
     "output_type": "stream",
     "text": [
      "<__main__.Die object at 0x000001FD7F0D7610>\n",
      "<__main__.Die object at 0x000001FD7F0D7610>\n"
     ]
    }
   ],
   "source": [
    "for x in test_game.dice:\n",
    "    print(x)"
   ]
  },
  {
   "cell_type": "code",
   "execution_count": null,
   "id": "638a9982",
   "metadata": {},
   "outputs": [
    {
     "name": "stdout",
     "output_type": "stream",
     "text": [
      "True\n"
     ]
    }
   ],
   "source": [
    "i=\"narrow\"\n",
    "\n",
    "print(((i.upper()==\"WIDE\")or(i.upper()==\"NARROW\")))"
   ]
  },
  {
   "cell_type": "code",
   "execution_count": null,
   "id": "b8422a2a",
   "metadata": {},
   "outputs": [
    {
     "name": "stdout",
     "output_type": "stream",
     "text": [
      "a\n",
      "a\n",
      "a\n"
     ]
    }
   ],
   "source": [
    "quick = 'a'\n",
    "proof=[quick,quick,quick]\n",
    "\n",
    "for x in proof:\n",
    "    print(x)"
   ]
  },
  {
   "cell_type": "code",
   "execution_count": 68,
   "id": "53217e03",
   "metadata": {},
   "outputs": [
    {
     "data": {
      "text/html": [
       "<div>\n",
       "<style scoped>\n",
       "    .dataframe tbody tr th:only-of-type {\n",
       "        vertical-align: middle;\n",
       "    }\n",
       "\n",
       "    .dataframe tbody tr th {\n",
       "        vertical-align: top;\n",
       "    }\n",
       "\n",
       "    .dataframe thead th {\n",
       "        text-align: right;\n",
       "    }\n",
       "</style>\n",
       "<table border=\"1\" class=\"dataframe\">\n",
       "  <thead>\n",
       "    <tr style=\"text-align: right;\">\n",
       "      <th></th>\n",
       "      <th>first</th>\n",
       "      <th>second</th>\n",
       "    </tr>\n",
       "  </thead>\n",
       "  <tbody>\n",
       "    <tr>\n",
       "      <th>0</th>\n",
       "      <td>bar</td>\n",
       "      <td>one</td>\n",
       "    </tr>\n",
       "    <tr>\n",
       "      <th>1</th>\n",
       "      <td>bar</td>\n",
       "      <td>two</td>\n",
       "    </tr>\n",
       "    <tr>\n",
       "      <th>2</th>\n",
       "      <td>foo</td>\n",
       "      <td>one</td>\n",
       "    </tr>\n",
       "    <tr>\n",
       "      <th>3</th>\n",
       "      <td>foo</td>\n",
       "      <td>two</td>\n",
       "    </tr>\n",
       "  </tbody>\n",
       "</table>\n",
       "</div>"
      ],
      "text/plain": [
       "  first second\n",
       "0   bar    one\n",
       "1   bar    two\n",
       "2   foo    one\n",
       "3   foo    two"
      ]
     },
     "execution_count": 68,
     "metadata": {},
     "output_type": "execute_result"
    }
   ],
   "source": [
    " df = pd.DataFrame(\n",
    "     [[\"bar\", \"one\"], [\"bar\", \"two\"], [\"foo\", \"one\"], [\"foo\", \"two\"]],\n",
    "     columns=[\"first\", \"second\"],\n",
    " )\n",
    " \n",
    "\n",
    "df"
   ]
  },
  {
   "cell_type": "code",
   "execution_count": 72,
   "id": "8f273662",
   "metadata": {},
   "outputs": [
    {
     "data": {
      "text/plain": [
       "Index(['one', 'two', 'one', 'two'], dtype='object', name='second')"
      ]
     },
     "execution_count": 72,
     "metadata": {},
     "output_type": "execute_result"
    }
   ],
   "source": [
    "qa=pd.MultiIndex.from_frame(df)\n",
    "\n",
    "qa.get_level_values(0)\n",
    "qa.get_level_values(1)"
   ]
  }
 ],
 "metadata": {
  "kernelspec": {
   "display_name": "Python 3",
   "language": "python",
   "name": "python3"
  },
  "language_info": {
   "codemirror_mode": {
    "name": "ipython",
    "version": 3
   },
   "file_extension": ".py",
   "mimetype": "text/x-python",
   "name": "python",
   "nbconvert_exporter": "python",
   "pygments_lexer": "ipython3",
   "version": "3.13.3"
  }
 },
 "nbformat": 4,
 "nbformat_minor": 5
}
