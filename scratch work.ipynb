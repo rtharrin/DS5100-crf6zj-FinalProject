{
 "cells": [
  {
   "cell_type": "code",
   "execution_count": 4,
   "id": "c7cfdaad-5f84-444a-b023-0c27fa933a7b",
   "metadata": {
    "tags": []
   },
   "outputs": [],
   "source": [
    "import numpy as np\n",
    "import pandas as pd\n",
    "\n",
    "class Die:\n",
    "    def __init__(self,faces: np.array):\n",
    "        \"\"\"Initialization method, ensure that faces is a NumPy array of distinct int/float\"\"\"\n",
    "        #first make sure faces is a NumPy array\n",
    "        if type(faces) != np.ndarray:\n",
    "            raise TypeError(\"Parameter faces must be a NumPy array\")\n",
    "        \n",
    "        #TODO: ??Maybe ensure that it is string/numeric dtype?\n",
    "        #If so use np.issubdtype \n",
    "        \n",
    "        #Make sure the values of faces are unique\n",
    "        if faces.size != np.unique(faces).size:\n",
    "            raise ValueError(\"The values of input faces must be unique\")\n",
    "        \n",
    "        base_weight = [1.0]*faces.size\n",
    "        self.df = pd.DataFrame(index=faces, data={'Weight':base_weight})\n",
    "        \n",
    "    def change_weight(self,fval,weight):\n",
    "        \"\"\"Method to change the weight of a single side.  Must ensure the fval is a valid index and the weight can be cast as numeric\"\"\"\n",
    "        #make sure it is a valid face name\n",
    "        if fval not in self.df.index:\n",
    "            raise IndexError(\"Your fval is not a valid face name\")\n",
    "        #Make sure the weight can be cast to a numeric\n",
    "        try:\n",
    "            float(weight)\n",
    "        except ValueError :\n",
    "            raise TypeError(\"weight must be able to be converted to a number\")\n",
    "            \n",
    "        self.df.loc[fval,'Weight'] = float(weight)\n",
    "        \n",
    "    def roll_die(self,num_rolls=1):\n",
    "        #todo, update to get working\n",
    "        tmp = list(self.df.sample(n=num_rolls,replace=True,weights=self.df['Weight']).index)\n",
    "        return tmp\n",
    "    \n",
    "    def show_die(self):\n",
    "        \"\"\"Method returning the data frame representing the die\"\"\"\n",
    "        return self.df\n",
    "    "
   ]
  },
  {
   "cell_type": "code",
   "execution_count": 5,
   "id": "ec8846a6-58a4-40b3-a11b-ccede26924eb",
   "metadata": {
    "tags": []
   },
   "outputs": [
    {
     "data": {
      "text/plain": [
       "array(['A', 'B', 'C', 'D', 'E', 'F'], dtype='<U1')"
      ]
     },
     "execution_count": 5,
     "metadata": {},
     "output_type": "execute_result"
    }
   ],
   "source": [
    "ind = np.array(['A','B','C','D','E','F'])\n",
    "ind"
   ]
  },
  {
   "cell_type": "code",
   "execution_count": null,
   "id": "de57f2f8-0c92-492f-b584-d4aa69546856",
   "metadata": {},
   "outputs": [],
   "source": [
    "\n"
   ]
  },
  {
   "cell_type": "code",
   "execution_count": 6,
   "id": "bc9e4041-baa1-4c08-95fc-66aae7024629",
   "metadata": {
    "tags": []
   },
   "outputs": [],
   "source": [
    "test2=Die(ind)"
   ]
  },
  {
   "cell_type": "code",
   "execution_count": 8,
   "id": "d5c7dc91-ca23-47dd-9645-a5dbe35a1717",
   "metadata": {
    "tags": []
   },
   "outputs": [
    {
     "data": {
      "text/html": [
       "<div>\n",
       "<style scoped>\n",
       "    .dataframe tbody tr th:only-of-type {\n",
       "        vertical-align: middle;\n",
       "    }\n",
       "\n",
       "    .dataframe tbody tr th {\n",
       "        vertical-align: top;\n",
       "    }\n",
       "\n",
       "    .dataframe thead th {\n",
       "        text-align: right;\n",
       "    }\n",
       "</style>\n",
       "<table border=\"1\" class=\"dataframe\">\n",
       "  <thead>\n",
       "    <tr style=\"text-align: right;\">\n",
       "      <th></th>\n",
       "      <th>Weight</th>\n",
       "    </tr>\n",
       "  </thead>\n",
       "  <tbody>\n",
       "    <tr>\n",
       "      <th>A</th>\n",
       "      <td>1.0</td>\n",
       "    </tr>\n",
       "    <tr>\n",
       "      <th>B</th>\n",
       "      <td>1.0</td>\n",
       "    </tr>\n",
       "    <tr>\n",
       "      <th>C</th>\n",
       "      <td>1.0</td>\n",
       "    </tr>\n",
       "    <tr>\n",
       "      <th>D</th>\n",
       "      <td>1.0</td>\n",
       "    </tr>\n",
       "    <tr>\n",
       "      <th>E</th>\n",
       "      <td>1.0</td>\n",
       "    </tr>\n",
       "    <tr>\n",
       "      <th>F</th>\n",
       "      <td>1.0</td>\n",
       "    </tr>\n",
       "  </tbody>\n",
       "</table>\n",
       "</div>"
      ],
      "text/plain": [
       "   Weight\n",
       "A     1.0\n",
       "B     1.0\n",
       "C     1.0\n",
       "D     1.0\n",
       "E     1.0\n",
       "F     1.0"
      ]
     },
     "execution_count": 8,
     "metadata": {},
     "output_type": "execute_result"
    }
   ],
   "source": [
    "test2.show_die()"
   ]
  },
  {
   "cell_type": "code",
   "execution_count": 11,
   "id": "51324aff-1472-4dc2-a7ba-a3fad3bd12aa",
   "metadata": {
    "tags": []
   },
   "outputs": [
    {
     "data": {
      "text/html": [
       "<div>\n",
       "<style scoped>\n",
       "    .dataframe tbody tr th:only-of-type {\n",
       "        vertical-align: middle;\n",
       "    }\n",
       "\n",
       "    .dataframe tbody tr th {\n",
       "        vertical-align: top;\n",
       "    }\n",
       "\n",
       "    .dataframe thead th {\n",
       "        text-align: right;\n",
       "    }\n",
       "</style>\n",
       "<table border=\"1\" class=\"dataframe\">\n",
       "  <thead>\n",
       "    <tr style=\"text-align: right;\">\n",
       "      <th></th>\n",
       "      <th>Weight</th>\n",
       "    </tr>\n",
       "  </thead>\n",
       "  <tbody>\n",
       "    <tr>\n",
       "      <th>A</th>\n",
       "      <td>1.0</td>\n",
       "    </tr>\n",
       "    <tr>\n",
       "      <th>B</th>\n",
       "      <td>1.0</td>\n",
       "    </tr>\n",
       "    <tr>\n",
       "      <th>C</th>\n",
       "      <td>1.0</td>\n",
       "    </tr>\n",
       "    <tr>\n",
       "      <th>D</th>\n",
       "      <td>1.0</td>\n",
       "    </tr>\n",
       "    <tr>\n",
       "      <th>E</th>\n",
       "      <td>1.0</td>\n",
       "    </tr>\n",
       "    <tr>\n",
       "      <th>F</th>\n",
       "      <td>3.0</td>\n",
       "    </tr>\n",
       "  </tbody>\n",
       "</table>\n",
       "</div>"
      ],
      "text/plain": [
       "   Weight\n",
       "A     1.0\n",
       "B     1.0\n",
       "C     1.0\n",
       "D     1.0\n",
       "E     1.0\n",
       "F     3.0"
      ]
     },
     "execution_count": 11,
     "metadata": {},
     "output_type": "execute_result"
    }
   ],
   "source": [
    "test2.change_weight(\"F\",3)\n",
    "test2.show_die()"
   ]
  },
  {
   "cell_type": "code",
   "execution_count": 12,
   "id": "fec159dc-b731-40fd-92cf-02e204480acc",
   "metadata": {
    "tags": []
   },
   "outputs": [
    {
     "data": {
      "text/plain": [
       "list"
      ]
     },
     "execution_count": 12,
     "metadata": {},
     "output_type": "execute_result"
    }
   ],
   "source": [
    "type(test2.roll_die(3))\n"
   ]
  },
  {
   "cell_type": "code",
   "execution_count": 13,
   "id": "55a3ab3a-4f08-4be3-ac3d-b7079bd0c12f",
   "metadata": {
    "tags": []
   },
   "outputs": [
    {
     "ename": "NameError",
     "evalue": "name 'test' is not defined",
     "output_type": "error",
     "traceback": [
      "\u001b[0;31m---------------------------------------------------------------------------\u001b[0m",
      "\u001b[0;31mNameError\u001b[0m                                 Traceback (most recent call last)",
      "Cell \u001b[0;32mIn[13], line 1\u001b[0m\n\u001b[0;32m----> 1\u001b[0m \u001b[43mtest\u001b[49m\u001b[38;5;241m.\u001b[39mdf\u001b[38;5;241m.\u001b[39msample(n\u001b[38;5;241m=\u001b[39m\u001b[38;5;241m10\u001b[39m,replace\u001b[38;5;241m=\u001b[39m\u001b[38;5;28;01mTrue\u001b[39;00m,weights\u001b[38;5;241m=\u001b[39mtest\u001b[38;5;241m.\u001b[39mdf[\u001b[38;5;124m'\u001b[39m\u001b[38;5;124mWeight\u001b[39m\u001b[38;5;124m'\u001b[39m])\u001b[38;5;241m.\u001b[39mindex\n",
      "\u001b[0;31mNameError\u001b[0m: name 'test' is not defined"
     ]
    }
   ],
   "source": [
    "test.df.sample(n=10,replace=True,weights=test.df['Weight']).index"
   ]
  },
  {
   "cell_type": "code",
   "execution_count": 27,
   "id": "89922d52-2fff-4d54-a42d-a10f2354c0a6",
   "metadata": {
    "tags": []
   },
   "outputs": [
    {
     "data": {
      "text/plain": [
       "['E', 'F', 'B', 'E', 'C']"
      ]
     },
     "execution_count": 27,
     "metadata": {},
     "output_type": "execute_result"
    }
   ],
   "source": [
    "import random\n",
    "\n",
    "tst=random.choices(population=test.df.index,weights=test.df['Weight'], k=5)\n",
    "tst\n",
    "#test.df['Weight']"
   ]
  },
  {
   "cell_type": "code",
   "execution_count": 14,
   "id": "10fdb6da-1498-49f3-80eb-281f74926a2c",
   "metadata": {
    "tags": []
   },
   "outputs": [],
   "source": [
    "test=Die(ind)\n",
    "test2=Die(ind)\n",
    "test3=Die(ind)\n",
    "test4=Die(ind)\n"
   ]
  },
  {
   "cell_type": "code",
   "execution_count": 107,
   "id": "1e642b7c-286c-4ea3-b00b-551d71c45423",
   "metadata": {
    "tags": []
   },
   "outputs": [
    {
     "data": {
      "text/plain": [
       "list"
      ]
     },
     "execution_count": 107,
     "metadata": {},
     "output_type": "execute_result"
    }
   ],
   "source": [
    "game_test=[test,test2,test3,test4]\n",
    "type(game_test)"
   ]
  },
  {
   "cell_type": "code",
   "execution_count": 109,
   "id": "87d138fe-44ad-4588-a2e4-93b1c791401a",
   "metadata": {
    "tags": []
   },
   "outputs": [
    {
     "data": {
      "text/html": [
       "<div>\n",
       "<style scoped>\n",
       "    .dataframe tbody tr th:only-of-type {\n",
       "        vertical-align: middle;\n",
       "    }\n",
       "\n",
       "    .dataframe tbody tr th {\n",
       "        vertical-align: top;\n",
       "    }\n",
       "\n",
       "    .dataframe thead th {\n",
       "        text-align: right;\n",
       "    }\n",
       "</style>\n",
       "<table border=\"1\" class=\"dataframe\">\n",
       "  <thead>\n",
       "    <tr style=\"text-align: right;\">\n",
       "      <th></th>\n",
       "      <th>Weight</th>\n",
       "    </tr>\n",
       "  </thead>\n",
       "  <tbody>\n",
       "    <tr>\n",
       "      <th>A</th>\n",
       "      <td>1.0</td>\n",
       "    </tr>\n",
       "    <tr>\n",
       "      <th>B</th>\n",
       "      <td>1.0</td>\n",
       "    </tr>\n",
       "    <tr>\n",
       "      <th>C</th>\n",
       "      <td>1.0</td>\n",
       "    </tr>\n",
       "    <tr>\n",
       "      <th>D</th>\n",
       "      <td>1.0</td>\n",
       "    </tr>\n",
       "    <tr>\n",
       "      <th>E</th>\n",
       "      <td>1.0</td>\n",
       "    </tr>\n",
       "    <tr>\n",
       "      <th>F</th>\n",
       "      <td>1.0</td>\n",
       "    </tr>\n",
       "  </tbody>\n",
       "</table>\n",
       "</div>"
      ],
      "text/plain": [
       "   Weight\n",
       "A     1.0\n",
       "B     1.0\n",
       "C     1.0\n",
       "D     1.0\n",
       "E     1.0\n",
       "F     1.0"
      ]
     },
     "execution_count": 109,
     "metadata": {},
     "output_type": "execute_result"
    }
   ],
   "source": [
    "game_test[0].show_die()"
   ]
  },
  {
   "cell_type": "code",
   "execution_count": 123,
   "id": "572cb6f9-d7de-4fc2-b37b-e37150711838",
   "metadata": {
    "tags": []
   },
   "outputs": [
    {
     "name": "stdout",
     "output_type": "stream",
     "text": [
      "0\n",
      "1\n",
      "2\n",
      "3\n"
     ]
    }
   ],
   "source": [
    "for x in game_test:\n",
    "    print(game_test.index(x))"
   ]
  },
  {
   "cell_type": "code",
   "execution_count": 139,
   "id": "ffd07d61-9ddc-466e-958a-ead5beab6dee",
   "metadata": {
    "tags": []
   },
   "outputs": [
    {
     "data": {
      "text/html": [
       "<div>\n",
       "<style scoped>\n",
       "    .dataframe tbody tr th:only-of-type {\n",
       "        vertical-align: middle;\n",
       "    }\n",
       "\n",
       "    .dataframe tbody tr th {\n",
       "        vertical-align: top;\n",
       "    }\n",
       "\n",
       "    .dataframe thead th {\n",
       "        text-align: right;\n",
       "    }\n",
       "</style>\n",
       "<table border=\"1\" class=\"dataframe\">\n",
       "  <thead>\n",
       "    <tr style=\"text-align: right;\">\n",
       "      <th></th>\n",
       "      <th>0</th>\n",
       "      <th>1</th>\n",
       "      <th>2</th>\n",
       "      <th>3</th>\n",
       "    </tr>\n",
       "  </thead>\n",
       "  <tbody>\n",
       "    <tr>\n",
       "      <th>1</th>\n",
       "      <td>F</td>\n",
       "      <td>F</td>\n",
       "      <td>B</td>\n",
       "      <td>A</td>\n",
       "    </tr>\n",
       "    <tr>\n",
       "      <th>2</th>\n",
       "      <td>E</td>\n",
       "      <td>F</td>\n",
       "      <td>B</td>\n",
       "      <td>E</td>\n",
       "    </tr>\n",
       "    <tr>\n",
       "      <th>3</th>\n",
       "      <td>E</td>\n",
       "      <td>E</td>\n",
       "      <td>F</td>\n",
       "      <td>D</td>\n",
       "    </tr>\n",
       "    <tr>\n",
       "      <th>4</th>\n",
       "      <td>A</td>\n",
       "      <td>A</td>\n",
       "      <td>E</td>\n",
       "      <td>B</td>\n",
       "    </tr>\n",
       "  </tbody>\n",
       "</table>\n",
       "</div>"
      ],
      "text/plain": [
       "   0  1  2  3\n",
       "1  F  F  B  A\n",
       "2  E  F  B  E\n",
       "3  E  E  F  D\n",
       "4  A  A  E  B"
      ]
     },
     "execution_count": 139,
     "metadata": {},
     "output_type": "execute_result"
    }
   ],
   "source": [
    "num_rolls=4\n",
    "\n",
    "result = dict()\n",
    "\n",
    "for x in game_test:\n",
    "    key=game_test.index(x)\n",
    "    vals=x.roll_die(num_rolls)\n",
    "    result.update({key:vals})\n",
    "\n",
    "pd.DataFrame(result, index=list(range(1,num_rolls+1)))\n",
    "    "
   ]
  },
  {
   "cell_type": "code",
   "execution_count": 143,
   "id": "162a0d4e-e6e5-4530-a53f-697b57dfc343",
   "metadata": {
    "tags": []
   },
   "outputs": [
    {
     "data": {
      "text/plain": [
       "'[1, 2, 3, 4]'"
      ]
     },
     "execution_count": 143,
     "metadata": {},
     "output_type": "execute_result"
    }
   ],
   "source": [
    "f=list(range(1,num_rolls+1))\n",
    "\n"
   ]
  },
  {
   "cell_type": "code",
   "execution_count": null,
   "id": "5241521b-1e16-449e-9f46-4e1a4761b6ad",
   "metadata": {},
   "outputs": [],
   "source": []
  },
  {
   "cell_type": "code",
   "execution_count": 1,
   "id": "a6a6d91c-d6ff-48ac-b25f-7f20755100f7",
   "metadata": {
    "tags": []
   },
   "outputs": [],
   "source": [
    "class Game:\n",
    "    \"\"\"Game class expecting a list of die\"\"\"\n",
    "    \n",
    "    def __init__(self,dice):\n",
    "        self.dice=dice\n",
    "    \n",
    "    def play(self, num_rolls):\n",
    "        \"\"\"Takes the number of rolls as only parameter.  Creates/updates the outcome object with the results\"\"\"\n",
    "        result_d = dict()\n",
    "        for x in self.dice:\n",
    "            key=game_test.index(x)\n",
    "            vals=x.roll_die(num_rolls)\n",
    "            result_d.update({key:vals})\n",
    "            \n",
    "        #Using for 1 based roll index, not needed but I should name (die_num and roll_num)\n",
    "        #TODO: Make private and get rid of 1 based index\n",
    "        self.outcome=pd.DataFrame(result_d, index=list(range(1,num_rolls+1)))"
   ]
  },
  {
   "cell_type": "code",
   "execution_count": null,
   "id": "cc5b8376-e4ed-437a-9a0a-352e999295b8",
   "metadata": {},
   "outputs": [],
   "source": []
  },
  {
   "cell_type": "code",
   "execution_count": 17,
   "id": "f7488ef7-1281-4e35-b224-d1b629a475c4",
   "metadata": {
    "tags": []
   },
   "outputs": [],
   "source": [
    "test2.show_die()\n",
    "\n",
    "tmp_lst = [test2,test2]\n",
    "\n",
    "#test_game=Game("
   ]
  },
  {
   "cell_type": "code",
   "execution_count": 19,
   "id": "4411331f-b705-44ba-9984-f3def6217915",
   "metadata": {
    "tags": []
   },
   "outputs": [
    {
     "data": {
      "text/plain": [
       "<__main__.Game at 0x7f8280521e90>"
      ]
     },
     "execution_count": 19,
     "metadata": {},
     "output_type": "execute_result"
    }
   ],
   "source": [
    "test_game = Game(tmp_lst)\n",
    "\n",
    "test_game"
   ]
  }
 ],
 "metadata": {
  "kernelspec": {
   "display_name": "Python 3 (ipykernel)",
   "language": "python",
   "name": "python3"
  },
  "language_info": {
   "codemirror_mode": {
    "name": "ipython",
    "version": 3
   },
   "file_extension": ".py",
   "mimetype": "text/x-python",
   "name": "python",
   "nbconvert_exporter": "python",
   "pygments_lexer": "ipython3",
   "version": "3.11.4"
  }
 },
 "nbformat": 4,
 "nbformat_minor": 5
}
