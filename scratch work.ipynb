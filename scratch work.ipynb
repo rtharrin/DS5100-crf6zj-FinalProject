{
 "cells": [
  {
   "cell_type": "code",
   "execution_count": 1,
   "id": "c7cfdaad-5f84-444a-b023-0c27fa933a7b",
   "metadata": {
    "tags": []
   },
   "outputs": [],
   "source": [
    "import numpy as np\n",
    "import pandas as pd\n",
    "\n",
    "class Die:\n",
    "    def __init__(self,faces: np.array):\n",
    "        \"\"\"Initialization method, ensure that faces is a NumPy array of distinct int/float\"\"\"\n",
    "        #first make sure faces is a NumPy array\n",
    "        if type(faces) != np.ndarray:\n",
    "            raise TypeError(\"Parameter faces must be a NumPy array\")\n",
    "        \n",
    "        #TODO: ??Maybe ensure that it is string/numeric dtype?\n",
    "        #If so use np.issubdtype \n",
    "        \n",
    "        #Make sure the values of faces are unique\n",
    "        if faces.size != np.unique(faces).size:\n",
    "            raise ValueError(\"The values of input faces must be unique\")\n",
    "        \n",
    "        base_weight = [1.0]*faces.size\n",
    "        self.df = pd.DataFrame(index=faces, data={'Weight':base_weight})\n",
    "        \n",
    "    def change_weight(self,fval,weight):\n",
    "        \"\"\"Method to change the weight of a single side.  Must ensure the fval is a valid index and the weight can be cast as numeric\"\"\"\n",
    "        #make sure it is a valid face name\n",
    "        if fval not in self.df.index:\n",
    "            raise IndexError(\"Your fval is not a valid face name\")\n",
    "        #Make sure the weight can be cast to a numeric\n",
    "        try:\n",
    "            float(weight)\n",
    "        except ValueError :\n",
    "            raise TypeError(\"weight must be able to be converted to a number\")\n",
    "            \n",
    "        self.df.loc[fval,'Weight'] = float(weight)\n",
    "        \n",
    "    def roll_die(self,num_rolls=1):\n",
    "        #todo, update to get working\n",
    "        tmp = list(self.df.sample(n=num_rolls,replace=True,weights=self.df['Weight']).index)\n",
    "        return tmp\n",
    "    \n",
    "    def show_die(self):\n",
    "        \"\"\"Method returning the data frame representing the die\"\"\"\n",
    "        return self.df\n",
    "    "
   ]
  },
  {
   "cell_type": "code",
   "execution_count": 2,
   "id": "ec8846a6-58a4-40b3-a11b-ccede26924eb",
   "metadata": {
    "tags": []
   },
   "outputs": [],
   "source": [
    "ind = np.array(['A','B','C','D','E','F'])\n",
    "#ind"
   ]
  },
  {
   "cell_type": "code",
   "execution_count": 3,
   "id": "de57f2f8-0c92-492f-b584-d4aa69546856",
   "metadata": {},
   "outputs": [
    {
     "data": {
      "text/plain": [
       "array(['A', 'B', 'C', 'D', 'E', 'F'], dtype='<U1')"
      ]
     },
     "execution_count": 3,
     "metadata": {},
     "output_type": "execute_result"
    }
   ],
   "source": [
    "ind\n"
   ]
  },
  {
   "cell_type": "code",
   "execution_count": 4,
   "id": "bc9e4041-baa1-4c08-95fc-66aae7024629",
   "metadata": {
    "tags": []
   },
   "outputs": [],
   "source": [
    "test2=Die(ind)"
   ]
  },
  {
   "cell_type": "code",
   "execution_count": 5,
   "id": "d5c7dc91-ca23-47dd-9645-a5dbe35a1717",
   "metadata": {
    "tags": []
   },
   "outputs": [
    {
     "data": {
      "text/html": [
       "<div>\n",
       "<style scoped>\n",
       "    .dataframe tbody tr th:only-of-type {\n",
       "        vertical-align: middle;\n",
       "    }\n",
       "\n",
       "    .dataframe tbody tr th {\n",
       "        vertical-align: top;\n",
       "    }\n",
       "\n",
       "    .dataframe thead th {\n",
       "        text-align: right;\n",
       "    }\n",
       "</style>\n",
       "<table border=\"1\" class=\"dataframe\">\n",
       "  <thead>\n",
       "    <tr style=\"text-align: right;\">\n",
       "      <th></th>\n",
       "      <th>Weight</th>\n",
       "    </tr>\n",
       "  </thead>\n",
       "  <tbody>\n",
       "    <tr>\n",
       "      <th>A</th>\n",
       "      <td>1.0</td>\n",
       "    </tr>\n",
       "    <tr>\n",
       "      <th>B</th>\n",
       "      <td>1.0</td>\n",
       "    </tr>\n",
       "    <tr>\n",
       "      <th>C</th>\n",
       "      <td>1.0</td>\n",
       "    </tr>\n",
       "    <tr>\n",
       "      <th>D</th>\n",
       "      <td>1.0</td>\n",
       "    </tr>\n",
       "    <tr>\n",
       "      <th>E</th>\n",
       "      <td>1.0</td>\n",
       "    </tr>\n",
       "    <tr>\n",
       "      <th>F</th>\n",
       "      <td>1.0</td>\n",
       "    </tr>\n",
       "  </tbody>\n",
       "</table>\n",
       "</div>"
      ],
      "text/plain": [
       "   Weight\n",
       "A     1.0\n",
       "B     1.0\n",
       "C     1.0\n",
       "D     1.0\n",
       "E     1.0\n",
       "F     1.0"
      ]
     },
     "execution_count": 5,
     "metadata": {},
     "output_type": "execute_result"
    }
   ],
   "source": [
    "test2.show_die()"
   ]
  },
  {
   "cell_type": "code",
   "execution_count": 6,
   "id": "51324aff-1472-4dc2-a7ba-a3fad3bd12aa",
   "metadata": {
    "tags": []
   },
   "outputs": [
    {
     "data": {
      "text/html": [
       "<div>\n",
       "<style scoped>\n",
       "    .dataframe tbody tr th:only-of-type {\n",
       "        vertical-align: middle;\n",
       "    }\n",
       "\n",
       "    .dataframe tbody tr th {\n",
       "        vertical-align: top;\n",
       "    }\n",
       "\n",
       "    .dataframe thead th {\n",
       "        text-align: right;\n",
       "    }\n",
       "</style>\n",
       "<table border=\"1\" class=\"dataframe\">\n",
       "  <thead>\n",
       "    <tr style=\"text-align: right;\">\n",
       "      <th></th>\n",
       "      <th>Weight</th>\n",
       "    </tr>\n",
       "  </thead>\n",
       "  <tbody>\n",
       "    <tr>\n",
       "      <th>A</th>\n",
       "      <td>1.0</td>\n",
       "    </tr>\n",
       "    <tr>\n",
       "      <th>B</th>\n",
       "      <td>1.0</td>\n",
       "    </tr>\n",
       "    <tr>\n",
       "      <th>C</th>\n",
       "      <td>1.0</td>\n",
       "    </tr>\n",
       "    <tr>\n",
       "      <th>D</th>\n",
       "      <td>1.0</td>\n",
       "    </tr>\n",
       "    <tr>\n",
       "      <th>E</th>\n",
       "      <td>1.0</td>\n",
       "    </tr>\n",
       "    <tr>\n",
       "      <th>F</th>\n",
       "      <td>3.0</td>\n",
       "    </tr>\n",
       "  </tbody>\n",
       "</table>\n",
       "</div>"
      ],
      "text/plain": [
       "   Weight\n",
       "A     1.0\n",
       "B     1.0\n",
       "C     1.0\n",
       "D     1.0\n",
       "E     1.0\n",
       "F     3.0"
      ]
     },
     "execution_count": 6,
     "metadata": {},
     "output_type": "execute_result"
    }
   ],
   "source": [
    "test2.change_weight(\"F\",3)\n",
    "test2.show_die()"
   ]
  },
  {
   "cell_type": "code",
   "execution_count": 7,
   "id": "fec159dc-b731-40fd-92cf-02e204480acc",
   "metadata": {
    "tags": []
   },
   "outputs": [
    {
     "data": {
      "text/plain": [
       "list"
      ]
     },
     "execution_count": 7,
     "metadata": {},
     "output_type": "execute_result"
    }
   ],
   "source": [
    "type(test2.roll_die(3))\n"
   ]
  },
  {
   "cell_type": "code",
   "execution_count": 8,
   "id": "55a3ab3a-4f08-4be3-ac3d-b7079bd0c12f",
   "metadata": {
    "tags": []
   },
   "outputs": [],
   "source": [
    "#test.df.sample(n=10,replace=True,weights=test.df['Weight']).index"
   ]
  },
  {
   "cell_type": "code",
   "execution_count": 9,
   "id": "89922d52-2fff-4d54-a42d-a10f2354c0a6",
   "metadata": {
    "tags": []
   },
   "outputs": [],
   "source": [
    "#import random\n",
    "\n",
    "#tst=random.choices(population=test.df.index,weights=test.df['Weight'], k=5)\n",
    "#tst\n",
    "#test.df['Weight']"
   ]
  },
  {
   "cell_type": "code",
   "execution_count": 10,
   "id": "10fdb6da-1498-49f3-80eb-281f74926a2c",
   "metadata": {
    "tags": []
   },
   "outputs": [
    {
     "data": {
      "text/html": [
       "<div>\n",
       "<style scoped>\n",
       "    .dataframe tbody tr th:only-of-type {\n",
       "        vertical-align: middle;\n",
       "    }\n",
       "\n",
       "    .dataframe tbody tr th {\n",
       "        vertical-align: top;\n",
       "    }\n",
       "\n",
       "    .dataframe thead th {\n",
       "        text-align: right;\n",
       "    }\n",
       "</style>\n",
       "<table border=\"1\" class=\"dataframe\">\n",
       "  <thead>\n",
       "    <tr style=\"text-align: right;\">\n",
       "      <th></th>\n",
       "      <th>Weight</th>\n",
       "    </tr>\n",
       "  </thead>\n",
       "  <tbody>\n",
       "    <tr>\n",
       "      <th>A</th>\n",
       "      <td>1.0</td>\n",
       "    </tr>\n",
       "    <tr>\n",
       "      <th>B</th>\n",
       "      <td>1.0</td>\n",
       "    </tr>\n",
       "    <tr>\n",
       "      <th>C</th>\n",
       "      <td>1.0</td>\n",
       "    </tr>\n",
       "    <tr>\n",
       "      <th>D</th>\n",
       "      <td>1.0</td>\n",
       "    </tr>\n",
       "    <tr>\n",
       "      <th>E</th>\n",
       "      <td>1.0</td>\n",
       "    </tr>\n",
       "    <tr>\n",
       "      <th>F</th>\n",
       "      <td>1.0</td>\n",
       "    </tr>\n",
       "  </tbody>\n",
       "</table>\n",
       "</div>"
      ],
      "text/plain": [
       "   Weight\n",
       "A     1.0\n",
       "B     1.0\n",
       "C     1.0\n",
       "D     1.0\n",
       "E     1.0\n",
       "F     1.0"
      ]
     },
     "execution_count": 10,
     "metadata": {},
     "output_type": "execute_result"
    }
   ],
   "source": [
    "test=Die(ind)\n",
    "test2=Die(ind)\n",
    "test3=Die(ind)\n",
    "test4=Die(ind)\n",
    "\n",
    "test.show_die()\n"
   ]
  },
  {
   "cell_type": "code",
   "execution_count": 11,
   "id": "1e642b7c-286c-4ea3-b00b-551d71c45423",
   "metadata": {
    "tags": []
   },
   "outputs": [
    {
     "data": {
      "text/plain": [
       "list"
      ]
     },
     "execution_count": 11,
     "metadata": {},
     "output_type": "execute_result"
    }
   ],
   "source": [
    "game_test=[test,test2,test3,test4]\n",
    "type(game_test)"
   ]
  },
  {
   "cell_type": "code",
   "execution_count": 12,
   "id": "87d138fe-44ad-4588-a2e4-93b1c791401a",
   "metadata": {
    "tags": []
   },
   "outputs": [
    {
     "data": {
      "text/html": [
       "<div>\n",
       "<style scoped>\n",
       "    .dataframe tbody tr th:only-of-type {\n",
       "        vertical-align: middle;\n",
       "    }\n",
       "\n",
       "    .dataframe tbody tr th {\n",
       "        vertical-align: top;\n",
       "    }\n",
       "\n",
       "    .dataframe thead th {\n",
       "        text-align: right;\n",
       "    }\n",
       "</style>\n",
       "<table border=\"1\" class=\"dataframe\">\n",
       "  <thead>\n",
       "    <tr style=\"text-align: right;\">\n",
       "      <th></th>\n",
       "      <th>Weight</th>\n",
       "    </tr>\n",
       "  </thead>\n",
       "  <tbody>\n",
       "    <tr>\n",
       "      <th>A</th>\n",
       "      <td>1.0</td>\n",
       "    </tr>\n",
       "    <tr>\n",
       "      <th>B</th>\n",
       "      <td>1.0</td>\n",
       "    </tr>\n",
       "    <tr>\n",
       "      <th>C</th>\n",
       "      <td>1.0</td>\n",
       "    </tr>\n",
       "    <tr>\n",
       "      <th>D</th>\n",
       "      <td>1.0</td>\n",
       "    </tr>\n",
       "    <tr>\n",
       "      <th>E</th>\n",
       "      <td>1.0</td>\n",
       "    </tr>\n",
       "    <tr>\n",
       "      <th>F</th>\n",
       "      <td>1.0</td>\n",
       "    </tr>\n",
       "  </tbody>\n",
       "</table>\n",
       "</div>"
      ],
      "text/plain": [
       "   Weight\n",
       "A     1.0\n",
       "B     1.0\n",
       "C     1.0\n",
       "D     1.0\n",
       "E     1.0\n",
       "F     1.0"
      ]
     },
     "execution_count": 12,
     "metadata": {},
     "output_type": "execute_result"
    }
   ],
   "source": [
    "game_test[0].show_die()"
   ]
  },
  {
   "cell_type": "code",
   "execution_count": 13,
   "id": "572cb6f9-d7de-4fc2-b37b-e37150711838",
   "metadata": {
    "tags": []
   },
   "outputs": [
    {
     "name": "stdout",
     "output_type": "stream",
     "text": [
      "0\n",
      "1\n",
      "2\n",
      "3\n"
     ]
    }
   ],
   "source": [
    "for x in game_test:\n",
    "    print(game_test.index(x))"
   ]
  },
  {
   "cell_type": "code",
   "execution_count": 14,
   "id": "ffd07d61-9ddc-466e-958a-ead5beab6dee",
   "metadata": {
    "tags": []
   },
   "outputs": [
    {
     "name": "stdout",
     "output_type": "stream",
     "text": [
      "<__main__.Die object at 0x00000236E2908690>\n",
      "<__main__.Die object at 0x0000023682864B90>\n",
      "<__main__.Die object at 0x000002368281ED70>\n",
      "<__main__.Die object at 0x000002368281EEA0>\n"
     ]
    },
    {
     "data": {
      "text/html": [
       "<div>\n",
       "<style scoped>\n",
       "    .dataframe tbody tr th:only-of-type {\n",
       "        vertical-align: middle;\n",
       "    }\n",
       "\n",
       "    .dataframe tbody tr th {\n",
       "        vertical-align: top;\n",
       "    }\n",
       "\n",
       "    .dataframe thead th {\n",
       "        text-align: right;\n",
       "    }\n",
       "</style>\n",
       "<table border=\"1\" class=\"dataframe\">\n",
       "  <thead>\n",
       "    <tr style=\"text-align: right;\">\n",
       "      <th></th>\n",
       "      <th>0</th>\n",
       "      <th>1</th>\n",
       "      <th>2</th>\n",
       "      <th>3</th>\n",
       "    </tr>\n",
       "  </thead>\n",
       "  <tbody>\n",
       "    <tr>\n",
       "      <th>0</th>\n",
       "      <td>E</td>\n",
       "      <td>C</td>\n",
       "      <td>E</td>\n",
       "      <td>E</td>\n",
       "    </tr>\n",
       "    <tr>\n",
       "      <th>1</th>\n",
       "      <td>F</td>\n",
       "      <td>B</td>\n",
       "      <td>E</td>\n",
       "      <td>F</td>\n",
       "    </tr>\n",
       "    <tr>\n",
       "      <th>2</th>\n",
       "      <td>E</td>\n",
       "      <td>F</td>\n",
       "      <td>C</td>\n",
       "      <td>E</td>\n",
       "    </tr>\n",
       "    <tr>\n",
       "      <th>3</th>\n",
       "      <td>B</td>\n",
       "      <td>A</td>\n",
       "      <td>F</td>\n",
       "      <td>A</td>\n",
       "    </tr>\n",
       "  </tbody>\n",
       "</table>\n",
       "</div>"
      ],
      "text/plain": [
       "   0  1  2  3\n",
       "0  E  C  E  E\n",
       "1  F  B  E  F\n",
       "2  E  F  C  E\n",
       "3  B  A  F  A"
      ]
     },
     "execution_count": 14,
     "metadata": {},
     "output_type": "execute_result"
    }
   ],
   "source": [
    "num_rolls=4\n",
    "\n",
    "result = dict()\n",
    "\n",
    "for x in game_test:\n",
    "    key=game_test.index(x)\n",
    "    vals=x.roll_die(num_rolls)\n",
    "    result.update({key:vals})\n",
    "    print(x)\n",
    "\n",
    "pd.DataFrame(result)\n",
    "    "
   ]
  },
  {
   "cell_type": "code",
   "execution_count": 15,
   "id": "162a0d4e-e6e5-4530-a53f-697b57dfc343",
   "metadata": {
    "tags": []
   },
   "outputs": [],
   "source": [
    "f=list(range(1,num_rolls+1))\n",
    "\n"
   ]
  },
  {
   "cell_type": "code",
   "execution_count": 16,
   "id": "5241521b-1e16-449e-9f46-4e1a4761b6ad",
   "metadata": {},
   "outputs": [
    {
     "data": {
      "text/html": [
       "<div>\n",
       "<style scoped>\n",
       "    .dataframe tbody tr th:only-of-type {\n",
       "        vertical-align: middle;\n",
       "    }\n",
       "\n",
       "    .dataframe tbody tr th {\n",
       "        vertical-align: top;\n",
       "    }\n",
       "\n",
       "    .dataframe thead th {\n",
       "        text-align: right;\n",
       "    }\n",
       "</style>\n",
       "<table border=\"1\" class=\"dataframe\">\n",
       "  <thead>\n",
       "    <tr style=\"text-align: right;\">\n",
       "      <th></th>\n",
       "      <th>Weight</th>\n",
       "    </tr>\n",
       "  </thead>\n",
       "  <tbody>\n",
       "    <tr>\n",
       "      <th>A</th>\n",
       "      <td>1.0</td>\n",
       "    </tr>\n",
       "    <tr>\n",
       "      <th>B</th>\n",
       "      <td>1.0</td>\n",
       "    </tr>\n",
       "    <tr>\n",
       "      <th>C</th>\n",
       "      <td>1.0</td>\n",
       "    </tr>\n",
       "    <tr>\n",
       "      <th>D</th>\n",
       "      <td>1.0</td>\n",
       "    </tr>\n",
       "    <tr>\n",
       "      <th>E</th>\n",
       "      <td>1.0</td>\n",
       "    </tr>\n",
       "    <tr>\n",
       "      <th>F</th>\n",
       "      <td>1.0</td>\n",
       "    </tr>\n",
       "  </tbody>\n",
       "</table>\n",
       "</div>"
      ],
      "text/plain": [
       "   Weight\n",
       "A     1.0\n",
       "B     1.0\n",
       "C     1.0\n",
       "D     1.0\n",
       "E     1.0\n",
       "F     1.0"
      ]
     },
     "execution_count": 16,
     "metadata": {},
     "output_type": "execute_result"
    }
   ],
   "source": [
    "test.show_die()"
   ]
  },
  {
   "cell_type": "code",
   "execution_count": 17,
   "id": "a6a6d91c-d6ff-48ac-b25f-7f20755100f7",
   "metadata": {
    "tags": []
   },
   "outputs": [],
   "source": [
    "\n",
    "class Game:\n",
    "    \"\"\"Game class expecting a list of die\"\"\"\n",
    "    \n",
    "    def __init__(self,dice):\n",
    "        self.dice=dice\n",
    "    \n",
    "    def play(self, num_rolls):\n",
    "        \"\"\"Takes the number of rolls as only parameter.  Creates/updates the outcome object with the results\"\"\"\n",
    "        result_d = dict()\n",
    "        for i, die in enumerate(self.dice):\n",
    "            vals = die.roll_die(num_rolls)\n",
    "            result_d[i] = vals\n",
    "            \n",
    "        # Create a DataFrame from the dictionary of results\n",
    "        self._outcome = pd.DataFrame(result_d)\n",
    "        self._outcome.index.name = 'Roll_Num'\n",
    "        self._outcome.columns.name = 'Die_Num'\n",
    "        \n",
    "\n",
    "        \n",
    "    def show_outcome(self,view=\"wide\"):\n",
    "        \"\"\"Method returning the result. Options include wide and narrow, default value of wide. \n",
    "        Narrow is a stacked version of the wide format.\n",
    "        \n",
    "            \n",
    "        Raises:\n",
    "            ValueError: If view parameter is not 'wide' or 'narrow'\n",
    "        \"\"\"\n",
    "        if view.upper() == \"WIDE\":\n",
    "            return self._outcome\n",
    "        elif view.upper() == \"NARROW\":\n",
    "            # Stack the columns to create a MultiIndex with roll number and die number\n",
    "            narrow_df = self._outcome.stack().reset_index()\n",
    "            # Rename columns appropriately\n",
    "            narrow_df.columns = ['Roll Number', 'Die Number', 'Outcome']\n",
    "            # Set MultiIndex using roll number and die number\n",
    "            narrow_df = narrow_df.set_index(['Roll Number', 'Die Number'])\n",
    "            return narrow_df\n",
    "        else:\n",
    "            raise ValueError(\"view must be either wide or narrow\")\n",
    "\n",
    "\n"
   ]
  },
  {
   "cell_type": "code",
   "execution_count": null,
   "id": "cc5b8376-e4ed-437a-9a0a-352e999295b8",
   "metadata": {},
   "outputs": [],
   "source": []
  },
  {
   "cell_type": "code",
   "execution_count": 18,
   "id": "f7488ef7-1281-4e35-b224-d1b629a475c4",
   "metadata": {
    "tags": []
   },
   "outputs": [],
   "source": [
    "test2.show_die()\n",
    "\n",
    "tmp_lst = [test2,test2]\n",
    "\n",
    "#test_game=Game("
   ]
  },
  {
   "cell_type": "code",
   "execution_count": 19,
   "id": "4411331f-b705-44ba-9984-f3def6217915",
   "metadata": {
    "tags": []
   },
   "outputs": [],
   "source": [
    "test_game = Game(tmp_lst)\n",
    "\n",
    "test_game.play(4)"
   ]
  },
  {
   "cell_type": "code",
   "execution_count": 20,
   "id": "22e74227",
   "metadata": {},
   "outputs": [
    {
     "data": {
      "text/html": [
       "<div>\n",
       "<style scoped>\n",
       "    .dataframe tbody tr th:only-of-type {\n",
       "        vertical-align: middle;\n",
       "    }\n",
       "\n",
       "    .dataframe tbody tr th {\n",
       "        vertical-align: top;\n",
       "    }\n",
       "\n",
       "    .dataframe thead th {\n",
       "        text-align: right;\n",
       "    }\n",
       "</style>\n",
       "<table border=\"1\" class=\"dataframe\">\n",
       "  <thead>\n",
       "    <tr style=\"text-align: right;\">\n",
       "      <th>Die_Num</th>\n",
       "      <th>0</th>\n",
       "      <th>1</th>\n",
       "    </tr>\n",
       "    <tr>\n",
       "      <th>Roll_Num</th>\n",
       "      <th></th>\n",
       "      <th></th>\n",
       "    </tr>\n",
       "  </thead>\n",
       "  <tbody>\n",
       "    <tr>\n",
       "      <th>0</th>\n",
       "      <td>D</td>\n",
       "      <td>F</td>\n",
       "    </tr>\n",
       "    <tr>\n",
       "      <th>1</th>\n",
       "      <td>B</td>\n",
       "      <td>E</td>\n",
       "    </tr>\n",
       "    <tr>\n",
       "      <th>2</th>\n",
       "      <td>C</td>\n",
       "      <td>C</td>\n",
       "    </tr>\n",
       "    <tr>\n",
       "      <th>3</th>\n",
       "      <td>E</td>\n",
       "      <td>C</td>\n",
       "    </tr>\n",
       "  </tbody>\n",
       "</table>\n",
       "</div>"
      ],
      "text/plain": [
       "Die_Num   0  1\n",
       "Roll_Num      \n",
       "0         D  F\n",
       "1         B  E\n",
       "2         C  C\n",
       "3         E  C"
      ]
     },
     "execution_count": 20,
     "metadata": {},
     "output_type": "execute_result"
    }
   ],
   "source": [
    "t=test_game.show_outcome(\"wide\")\n",
    "t"
   ]
  },
  {
   "cell_type": "code",
   "execution_count": 21,
   "id": "063b2609",
   "metadata": {},
   "outputs": [
    {
     "data": {
      "text/html": [
       "<div>\n",
       "<style scoped>\n",
       "    .dataframe tbody tr th:only-of-type {\n",
       "        vertical-align: middle;\n",
       "    }\n",
       "\n",
       "    .dataframe tbody tr th {\n",
       "        vertical-align: top;\n",
       "    }\n",
       "\n",
       "    .dataframe thead th {\n",
       "        text-align: right;\n",
       "    }\n",
       "</style>\n",
       "<table border=\"1\" class=\"dataframe\">\n",
       "  <thead>\n",
       "    <tr style=\"text-align: right;\">\n",
       "      <th></th>\n",
       "      <th></th>\n",
       "      <th>Outcome</th>\n",
       "    </tr>\n",
       "    <tr>\n",
       "      <th>Roll Number</th>\n",
       "      <th>Die Number</th>\n",
       "      <th></th>\n",
       "    </tr>\n",
       "  </thead>\n",
       "  <tbody>\n",
       "    <tr>\n",
       "      <th rowspan=\"2\" valign=\"top\">0</th>\n",
       "      <th>0</th>\n",
       "      <td>D</td>\n",
       "    </tr>\n",
       "    <tr>\n",
       "      <th>1</th>\n",
       "      <td>F</td>\n",
       "    </tr>\n",
       "    <tr>\n",
       "      <th rowspan=\"2\" valign=\"top\">1</th>\n",
       "      <th>0</th>\n",
       "      <td>B</td>\n",
       "    </tr>\n",
       "    <tr>\n",
       "      <th>1</th>\n",
       "      <td>E</td>\n",
       "    </tr>\n",
       "    <tr>\n",
       "      <th rowspan=\"2\" valign=\"top\">2</th>\n",
       "      <th>0</th>\n",
       "      <td>C</td>\n",
       "    </tr>\n",
       "    <tr>\n",
       "      <th>1</th>\n",
       "      <td>C</td>\n",
       "    </tr>\n",
       "    <tr>\n",
       "      <th rowspan=\"2\" valign=\"top\">3</th>\n",
       "      <th>0</th>\n",
       "      <td>E</td>\n",
       "    </tr>\n",
       "    <tr>\n",
       "      <th>1</th>\n",
       "      <td>C</td>\n",
       "    </tr>\n",
       "  </tbody>\n",
       "</table>\n",
       "</div>"
      ],
      "text/plain": [
       "                       Outcome\n",
       "Roll Number Die Number        \n",
       "0           0                D\n",
       "            1                F\n",
       "1           0                B\n",
       "            1                E\n",
       "2           0                C\n",
       "            1                C\n",
       "3           0                E\n",
       "            1                C"
      ]
     },
     "execution_count": 21,
     "metadata": {},
     "output_type": "execute_result"
    }
   ],
   "source": [
    "z=test_game.show_outcome(\"narrow\")\n",
    "z"
   ]
  },
  {
   "cell_type": "code",
   "execution_count": 22,
   "id": "8fde1747",
   "metadata": {},
   "outputs": [
    {
     "data": {
      "text/plain": [
       "<bound method MultiIndex.get_level_values of MultiIndex([(0, 0),\n",
       "            (0, 1),\n",
       "            (1, 0),\n",
       "            (1, 1),\n",
       "            (2, 0),\n",
       "            (2, 1),\n",
       "            (3, 0),\n",
       "            (3, 1)],\n",
       "           names=['Roll Number', 'Die Number'])>"
      ]
     },
     "execution_count": 22,
     "metadata": {},
     "output_type": "execute_result"
    }
   ],
   "source": [
    "z.index.get_level_values"
   ]
  },
  {
   "cell_type": "code",
   "execution_count": null,
   "id": "12a67d6d",
   "metadata": {},
   "outputs": [],
   "source": []
  },
  {
   "cell_type": "code",
   "execution_count": 23,
   "id": "07dbd789",
   "metadata": {},
   "outputs": [
    {
     "data": {
      "text/plain": [
       "MultiIndex([('D', 'F'),\n",
       "            ('B', 'E'),\n",
       "            ('C', 'C'),\n",
       "            ('E', 'C')],\n",
       "           names=[0, 1])"
      ]
     },
     "execution_count": 23,
     "metadata": {},
     "output_type": "execute_result"
    }
   ],
   "source": [
    "s=pd.MultiIndex.from_frame(t)\n",
    "\n",
    "s"
   ]
  },
  {
   "cell_type": "code",
   "execution_count": 24,
   "id": "42627150",
   "metadata": {},
   "outputs": [
    {
     "name": "stdout",
     "output_type": "stream",
     "text": [
      "<__main__.Die object at 0x0000023682864B90>\n",
      "<__main__.Die object at 0x0000023682864B90>\n"
     ]
    }
   ],
   "source": [
    "for x in test_game.dice:\n",
    "    print(x)"
   ]
  },
  {
   "cell_type": "code",
   "execution_count": 25,
   "id": "638a9982",
   "metadata": {},
   "outputs": [
    {
     "name": "stdout",
     "output_type": "stream",
     "text": [
      "True\n"
     ]
    }
   ],
   "source": [
    "i=\"narrow\"\n",
    "\n",
    "print(((i.upper()==\"WIDE\")or(i.upper()==\"NARROW\")))"
   ]
  },
  {
   "cell_type": "code",
   "execution_count": 26,
   "id": "b8422a2a",
   "metadata": {},
   "outputs": [
    {
     "name": "stdout",
     "output_type": "stream",
     "text": [
      "a\n",
      "a\n",
      "a\n"
     ]
    }
   ],
   "source": [
    "quick = 'a'\n",
    "proof=[quick,quick,quick]\n",
    "\n",
    "for x in proof:\n",
    "    print(x)"
   ]
  },
  {
   "cell_type": "code",
   "execution_count": 27,
   "id": "2424e630",
   "metadata": {},
   "outputs": [
    {
     "data": {
      "text/html": [
       "<div>\n",
       "<style scoped>\n",
       "    .dataframe tbody tr th:only-of-type {\n",
       "        vertical-align: middle;\n",
       "    }\n",
       "\n",
       "    .dataframe tbody tr th {\n",
       "        vertical-align: top;\n",
       "    }\n",
       "\n",
       "    .dataframe thead th {\n",
       "        text-align: right;\n",
       "    }\n",
       "</style>\n",
       "<table border=\"1\" class=\"dataframe\">\n",
       "  <thead>\n",
       "    <tr style=\"text-align: right;\">\n",
       "      <th></th>\n",
       "      <th></th>\n",
       "      <th>Outcome</th>\n",
       "    </tr>\n",
       "    <tr>\n",
       "      <th>Roll Number</th>\n",
       "      <th>Die Number</th>\n",
       "      <th></th>\n",
       "    </tr>\n",
       "  </thead>\n",
       "  <tbody>\n",
       "    <tr>\n",
       "      <th rowspan=\"2\" valign=\"top\">0</th>\n",
       "      <th>0</th>\n",
       "      <td>D</td>\n",
       "    </tr>\n",
       "    <tr>\n",
       "      <th>1</th>\n",
       "      <td>F</td>\n",
       "    </tr>\n",
       "    <tr>\n",
       "      <th rowspan=\"2\" valign=\"top\">1</th>\n",
       "      <th>0</th>\n",
       "      <td>B</td>\n",
       "    </tr>\n",
       "    <tr>\n",
       "      <th>1</th>\n",
       "      <td>E</td>\n",
       "    </tr>\n",
       "    <tr>\n",
       "      <th rowspan=\"2\" valign=\"top\">2</th>\n",
       "      <th>0</th>\n",
       "      <td>C</td>\n",
       "    </tr>\n",
       "    <tr>\n",
       "      <th>1</th>\n",
       "      <td>C</td>\n",
       "    </tr>\n",
       "    <tr>\n",
       "      <th rowspan=\"2\" valign=\"top\">3</th>\n",
       "      <th>0</th>\n",
       "      <td>E</td>\n",
       "    </tr>\n",
       "    <tr>\n",
       "      <th>1</th>\n",
       "      <td>C</td>\n",
       "    </tr>\n",
       "  </tbody>\n",
       "</table>\n",
       "</div>"
      ],
      "text/plain": [
       "                       Outcome\n",
       "Roll Number Die Number        \n",
       "0           0                D\n",
       "            1                F\n",
       "1           0                B\n",
       "            1                E\n",
       "2           0                C\n",
       "            1                C\n",
       "3           0                E\n",
       "            1                C"
      ]
     },
     "execution_count": 27,
     "metadata": {},
     "output_type": "execute_result"
    }
   ],
   "source": [
    "z"
   ]
  },
  {
   "cell_type": "code",
   "execution_count": 46,
   "id": "0d46c593",
   "metadata": {},
   "outputs": [],
   "source": [
    "import pandas as pd\n",
    "from itertools import combinations_with_replacement, permutations\n",
    "from collections import Counter\n",
    "from game import Game\n",
    "\n",
    "class Analyzer:\n",
    "    \"\"\"\n",
    "    A class to analyze the results of a dice game.\n",
    "    Takes the results of a single game and computes various descriptive statistical properties about it.\n",
    "    \"\"\"\n",
    "    \n",
    "    def __init__(self, game):\n",
    "        \"\"\"\n",
    "        Initialize an Analyzer with a Game object.\n",
    "        Throws error is input, game, is not a Game object.\n",
    "        \"\"\"\n",
    "        if not isinstance(game, Game):\n",
    "            raise ValueError(\"Input must be a Game object\")\n",
    "        self.game = game\n",
    "        \n",
    "    def jackpot(self):\n",
    "        \"\"\" Compute how many times the game resulted in all faces being the same.\n",
    "        Takes no input and returns the number of jackpots as a number.\n",
    "        \"\"\"\n",
    "        # Get the results in wide format\n",
    "        results = self.game.show_outcome(\"wide\")\n",
    "        # Check each row (roll) to see if all values in that roll are the same\n",
    "        jackpots = results.apply(lambda x: x.nunique() == 1, axis=1)\n",
    "        return int(jackpots.sum())\n",
    "    \n",
    "    def face_counts_per_roll(self):\n",
    "        \"\"\"\n",
    "        Compute how many times each face appears in each roll.\n",
    "        The result is a DataFrame.\n",
    "        \"\"\"\n",
    "        # Get results in wide format\n",
    "        results = self.game.show_outcome(\"wide\")\n",
    "        # Get unique faces from the results\n",
    "        all_faces = pd.unique(results.values.ravel())\n",
    "        \n",
    "        # Create a new dataframe to store counts\n",
    "        counts_df = pd.DataFrame(index=results.index)\n",
    "        \n",
    "        # For each face, count occurrences in each roll\n",
    "        for face in all_faces:\n",
    "            counts_df[face] = results.apply(lambda x: (x == face).sum(), axis=1)\n",
    "            \n",
    "        return counts_df\n",
    "    \n",
    "    def combo_count(self):\n",
    "        \"\"\"\n",
    "        Compute the distinct combinations of faces rolled along with their counts.\n",
    "        Returns a DataFrame with MultiIndex of distinct combinations and a column for the associated counts\n",
    "        \"\"\"\n",
    "        # Get results in wide format\n",
    "        results = self.game.show_outcome(\"wide\")\n",
    "        \n",
    "        # Convert each roll to a sorted tuple (order-independent)\n",
    "        combos = results.apply(lambda x: tuple(sorted(x)), axis=1)\n",
    "        \n",
    "        # Count occurrences of each combination\n",
    "        combo_counts = Counter(combos)\n",
    "        \n",
    "        # Convert to dataframe with MultiIndex\n",
    "        df = pd.DataFrame.from_dict(combo_counts, orient='index', columns=['Count'])\n",
    "        df.index = pd.MultiIndex.from_tuples(df.index)\n",
    "        \n",
    "        return df\n",
    "    \n",
    "    def permutation_count(self):\n",
    "        \"\"\"\n",
    "        Compute the distinct permutations of faces rolled along with their counts.\n",
    "        Permutations are order-dependent and may contain repetitions.\n",
    "        \n",
    "        Returns a dataframe with MultiIndex of distinct permutations and a column for the associated counts\n",
    "        \"\"\"\n",
    "        # Get results in wide format\n",
    "        results = self.game.show_outcome(\"wide\")\n",
    "        \n",
    "        # Convert each roll to a tuple (maintaining order)\n",
    "        perms = results.apply(lambda x: tuple(x), axis=1)\n",
    "        \n",
    "        # Count occurrences of each permutation\n",
    "        perm_counts = Counter(perms)\n",
    "        \n",
    "        # Convert to dataframe with MultiIndex\n",
    "        df = pd.DataFrame.from_dict(perm_counts, orient='index', columns=['Count'])\n",
    "        df.index = pd.MultiIndex.from_tuples(df.index)\n",
    "        \n",
    "        return df\n"
   ]
  },
  {
   "cell_type": "code",
   "execution_count": 51,
   "id": "9d9e9e07",
   "metadata": {},
   "outputs": [
    {
     "data": {
      "text/html": [
       "<div>\n",
       "<style scoped>\n",
       "    .dataframe tbody tr th:only-of-type {\n",
       "        vertical-align: middle;\n",
       "    }\n",
       "\n",
       "    .dataframe tbody tr th {\n",
       "        vertical-align: top;\n",
       "    }\n",
       "\n",
       "    .dataframe thead th {\n",
       "        text-align: right;\n",
       "    }\n",
       "</style>\n",
       "<table border=\"1\" class=\"dataframe\">\n",
       "  <thead>\n",
       "    <tr style=\"text-align: right;\">\n",
       "      <th></th>\n",
       "      <th>Weight</th>\n",
       "    </tr>\n",
       "  </thead>\n",
       "  <tbody>\n",
       "    <tr>\n",
       "      <th>A</th>\n",
       "      <td>1.0</td>\n",
       "    </tr>\n",
       "    <tr>\n",
       "      <th>B</th>\n",
       "      <td>1.0</td>\n",
       "    </tr>\n",
       "    <tr>\n",
       "      <th>C</th>\n",
       "      <td>1.0</td>\n",
       "    </tr>\n",
       "    <tr>\n",
       "      <th>D</th>\n",
       "      <td>1.0</td>\n",
       "    </tr>\n",
       "    <tr>\n",
       "      <th>E</th>\n",
       "      <td>1.0</td>\n",
       "    </tr>\n",
       "    <tr>\n",
       "      <th>F</th>\n",
       "      <td>5.0</td>\n",
       "    </tr>\n",
       "  </tbody>\n",
       "</table>\n",
       "</div>"
      ],
      "text/plain": [
       "   Weight\n",
       "A     1.0\n",
       "B     1.0\n",
       "C     1.0\n",
       "D     1.0\n",
       "E     1.0\n",
       "F     5.0"
      ]
     },
     "execution_count": 51,
     "metadata": {},
     "output_type": "execute_result"
    }
   ],
   "source": [
    "test2.change_weight(\"F\",5)\n",
    "test2.show_die()"
   ]
  },
  {
   "cell_type": "code",
   "execution_count": 52,
   "id": "4944d86a",
   "metadata": {},
   "outputs": [],
   "source": [
    "game_test_2=Game([test2,test2,test2])\n",
    "\n",
    "game_test_2.play(4)\n",
    "analyze_test = Analyzer(game_test_2)"
   ]
  },
  {
   "cell_type": "code",
   "execution_count": 53,
   "id": "fc9670ba",
   "metadata": {},
   "outputs": [
    {
     "data": {
      "text/html": [
       "<div>\n",
       "<style scoped>\n",
       "    .dataframe tbody tr th:only-of-type {\n",
       "        vertical-align: middle;\n",
       "    }\n",
       "\n",
       "    .dataframe tbody tr th {\n",
       "        vertical-align: top;\n",
       "    }\n",
       "\n",
       "    .dataframe thead th {\n",
       "        text-align: right;\n",
       "    }\n",
       "</style>\n",
       "<table border=\"1\" class=\"dataframe\">\n",
       "  <thead>\n",
       "    <tr style=\"text-align: right;\">\n",
       "      <th>Die_Num</th>\n",
       "      <th>0</th>\n",
       "      <th>1</th>\n",
       "      <th>2</th>\n",
       "    </tr>\n",
       "    <tr>\n",
       "      <th>Roll_Num</th>\n",
       "      <th></th>\n",
       "      <th></th>\n",
       "      <th></th>\n",
       "    </tr>\n",
       "  </thead>\n",
       "  <tbody>\n",
       "    <tr>\n",
       "      <th>0</th>\n",
       "      <td>F</td>\n",
       "      <td>F</td>\n",
       "      <td>C</td>\n",
       "    </tr>\n",
       "    <tr>\n",
       "      <th>1</th>\n",
       "      <td>E</td>\n",
       "      <td>C</td>\n",
       "      <td>F</td>\n",
       "    </tr>\n",
       "    <tr>\n",
       "      <th>2</th>\n",
       "      <td>F</td>\n",
       "      <td>F</td>\n",
       "      <td>F</td>\n",
       "    </tr>\n",
       "    <tr>\n",
       "      <th>3</th>\n",
       "      <td>B</td>\n",
       "      <td>F</td>\n",
       "      <td>F</td>\n",
       "    </tr>\n",
       "  </tbody>\n",
       "</table>\n",
       "</div>"
      ],
      "text/plain": [
       "Die_Num   0  1  2\n",
       "Roll_Num         \n",
       "0         F  F  C\n",
       "1         E  C  F\n",
       "2         F  F  F\n",
       "3         B  F  F"
      ]
     },
     "execution_count": 53,
     "metadata": {},
     "output_type": "execute_result"
    }
   ],
   "source": [
    "game_test_2.show_outcome(\"wide\")"
   ]
  },
  {
   "cell_type": "code",
   "execution_count": 54,
   "id": "b9b8cd34",
   "metadata": {},
   "outputs": [
    {
     "data": {
      "text/plain": [
       "1"
      ]
     },
     "execution_count": 54,
     "metadata": {},
     "output_type": "execute_result"
    }
   ],
   "source": [
    "analyze_test.jackpot()"
   ]
  },
  {
   "cell_type": "code",
   "execution_count": 55,
   "id": "928f751d",
   "metadata": {},
   "outputs": [
    {
     "data": {
      "text/html": [
       "<div>\n",
       "<style scoped>\n",
       "    .dataframe tbody tr th:only-of-type {\n",
       "        vertical-align: middle;\n",
       "    }\n",
       "\n",
       "    .dataframe tbody tr th {\n",
       "        vertical-align: top;\n",
       "    }\n",
       "\n",
       "    .dataframe thead th {\n",
       "        text-align: right;\n",
       "    }\n",
       "</style>\n",
       "<table border=\"1\" class=\"dataframe\">\n",
       "  <thead>\n",
       "    <tr style=\"text-align: right;\">\n",
       "      <th></th>\n",
       "      <th>F</th>\n",
       "      <th>C</th>\n",
       "      <th>E</th>\n",
       "      <th>B</th>\n",
       "    </tr>\n",
       "    <tr>\n",
       "      <th>Roll_Num</th>\n",
       "      <th></th>\n",
       "      <th></th>\n",
       "      <th></th>\n",
       "      <th></th>\n",
       "    </tr>\n",
       "  </thead>\n",
       "  <tbody>\n",
       "    <tr>\n",
       "      <th>0</th>\n",
       "      <td>2</td>\n",
       "      <td>1</td>\n",
       "      <td>0</td>\n",
       "      <td>0</td>\n",
       "    </tr>\n",
       "    <tr>\n",
       "      <th>1</th>\n",
       "      <td>1</td>\n",
       "      <td>1</td>\n",
       "      <td>1</td>\n",
       "      <td>0</td>\n",
       "    </tr>\n",
       "    <tr>\n",
       "      <th>2</th>\n",
       "      <td>3</td>\n",
       "      <td>0</td>\n",
       "      <td>0</td>\n",
       "      <td>0</td>\n",
       "    </tr>\n",
       "    <tr>\n",
       "      <th>3</th>\n",
       "      <td>2</td>\n",
       "      <td>0</td>\n",
       "      <td>0</td>\n",
       "      <td>1</td>\n",
       "    </tr>\n",
       "  </tbody>\n",
       "</table>\n",
       "</div>"
      ],
      "text/plain": [
       "          F  C  E  B\n",
       "Roll_Num            \n",
       "0         2  1  0  0\n",
       "1         1  1  1  0\n",
       "2         3  0  0  0\n",
       "3         2  0  0  1"
      ]
     },
     "execution_count": 55,
     "metadata": {},
     "output_type": "execute_result"
    }
   ],
   "source": [
    "analyze_test.face_counts_per_roll()"
   ]
  },
  {
   "cell_type": "code",
   "execution_count": 57,
   "id": "66c5b630",
   "metadata": {},
   "outputs": [
    {
     "data": {
      "text/plain": [
       "Roll_Num\n",
       "0    (C, F, F)\n",
       "1    (C, E, F)\n",
       "2    (F, F, F)\n",
       "3    (B, F, F)\n",
       "dtype: object"
      ]
     },
     "execution_count": 57,
     "metadata": {},
     "output_type": "execute_result"
    }
   ],
   "source": [
    "game_test_2.show_outcome().apply(lambda x: tuple(sorted(x)), axis=1)"
   ]
  },
  {
   "cell_type": "code",
   "execution_count": 60,
   "id": "4880edd4",
   "metadata": {},
   "outputs": [
    {
     "data": {
      "text/plain": [
       "Counter({('C', 'F', 'F'): 1,\n",
       "         ('C', 'E', 'F'): 1,\n",
       "         ('F', 'F', 'F'): 1,\n",
       "         ('B', 'F', 'F'): 1})"
      ]
     },
     "execution_count": 60,
     "metadata": {},
     "output_type": "execute_result"
    }
   ],
   "source": [
    "a=Counter(game_test_2.show_outcome().apply(lambda x: tuple(sorted(x)), axis=1))\n",
    "a"
   ]
  },
  {
   "cell_type": "code",
   "execution_count": 65,
   "id": "88b35a80",
   "metadata": {},
   "outputs": [
    {
     "data": {
      "text/plain": [
       "Index([('C', 'F', 'F'), ('C', 'E', 'F'), ('F', 'F', 'F'), ('B', 'F', 'F')], dtype='object')"
      ]
     },
     "execution_count": 65,
     "metadata": {},
     "output_type": "execute_result"
    }
   ],
   "source": [
    " # Convert to dataframe with MultiIndex\n",
    "df = pd.DataFrame.from_dict(a, orient='index', columns=['Count'])\n",
    "#df\n",
    "df.index\n",
    "\n"
   ]
  },
  {
   "cell_type": "code",
   "execution_count": 67,
   "id": "00dd6759",
   "metadata": {},
   "outputs": [
    {
     "data": {
      "text/html": [
       "<div>\n",
       "<style scoped>\n",
       "    .dataframe tbody tr th:only-of-type {\n",
       "        vertical-align: middle;\n",
       "    }\n",
       "\n",
       "    .dataframe tbody tr th {\n",
       "        vertical-align: top;\n",
       "    }\n",
       "\n",
       "    .dataframe thead th {\n",
       "        text-align: right;\n",
       "    }\n",
       "</style>\n",
       "<table border=\"1\" class=\"dataframe\">\n",
       "  <thead>\n",
       "    <tr style=\"text-align: right;\">\n",
       "      <th></th>\n",
       "      <th></th>\n",
       "      <th></th>\n",
       "      <th>Count</th>\n",
       "    </tr>\n",
       "  </thead>\n",
       "  <tbody>\n",
       "    <tr>\n",
       "      <th rowspan=\"2\" valign=\"top\">C</th>\n",
       "      <th>F</th>\n",
       "      <th>F</th>\n",
       "      <td>1</td>\n",
       "    </tr>\n",
       "    <tr>\n",
       "      <th>E</th>\n",
       "      <th>F</th>\n",
       "      <td>1</td>\n",
       "    </tr>\n",
       "    <tr>\n",
       "      <th>F</th>\n",
       "      <th>F</th>\n",
       "      <th>F</th>\n",
       "      <td>1</td>\n",
       "    </tr>\n",
       "    <tr>\n",
       "      <th>B</th>\n",
       "      <th>F</th>\n",
       "      <th>F</th>\n",
       "      <td>1</td>\n",
       "    </tr>\n",
       "  </tbody>\n",
       "</table>\n",
       "</div>"
      ],
      "text/plain": [
       "       Count\n",
       "C F F      1\n",
       "  E F      1\n",
       "F F F      1\n",
       "B F F      1"
      ]
     },
     "execution_count": 67,
     "metadata": {},
     "output_type": "execute_result"
    }
   ],
   "source": [
    "df.index = pd.MultiIndex.from_tuples(df.index)\n",
    "df"
   ]
  },
  {
   "cell_type": "code",
   "execution_count": null,
   "id": "78302b6e",
   "metadata": {},
   "outputs": [
    {
     "data": {
      "text/html": [
       "<div>\n",
       "<style scoped>\n",
       "    .dataframe tbody tr th:only-of-type {\n",
       "        vertical-align: middle;\n",
       "    }\n",
       "\n",
       "    .dataframe tbody tr th {\n",
       "        vertical-align: top;\n",
       "    }\n",
       "\n",
       "    .dataframe thead th {\n",
       "        text-align: right;\n",
       "    }\n",
       "</style>\n",
       "<table border=\"1\" class=\"dataframe\">\n",
       "  <thead>\n",
       "    <tr style=\"text-align: right;\">\n",
       "      <th></th>\n",
       "      <th></th>\n",
       "      <th></th>\n",
       "      <th>Count</th>\n",
       "    </tr>\n",
       "  </thead>\n",
       "  <tbody>\n",
       "    <tr>\n",
       "      <th rowspan=\"2\" valign=\"top\">C</th>\n",
       "      <th>F</th>\n",
       "      <th>F</th>\n",
       "      <td>1</td>\n",
       "    </tr>\n",
       "    <tr>\n",
       "      <th>E</th>\n",
       "      <th>F</th>\n",
       "      <td>1</td>\n",
       "    </tr>\n",
       "    <tr>\n",
       "      <th>F</th>\n",
       "      <th>F</th>\n",
       "      <th>F</th>\n",
       "      <td>1</td>\n",
       "    </tr>\n",
       "    <tr>\n",
       "      <th>B</th>\n",
       "      <th>F</th>\n",
       "      <th>F</th>\n",
       "      <td>1</td>\n",
       "    </tr>\n",
       "  </tbody>\n",
       "</table>\n",
       "</div>"
      ],
      "text/plain": [
       "       Count\n",
       "C F F      1\n",
       "  E F      1\n",
       "F F F      1\n",
       "B F F      1"
      ]
     },
     "execution_count": 58,
     "metadata": {},
     "output_type": "execute_result"
    }
   ],
   "source": [
    "analyze_test.combo_count()"
   ]
  }
 ],
 "metadata": {
  "kernelspec": {
   "display_name": "Python 3",
   "language": "python",
   "name": "python3"
  },
  "language_info": {
   "codemirror_mode": {
    "name": "ipython",
    "version": 3
   },
   "file_extension": ".py",
   "mimetype": "text/x-python",
   "name": "python",
   "nbconvert_exporter": "python",
   "pygments_lexer": "ipython3",
   "version": "3.13.3"
  }
 },
 "nbformat": 4,
 "nbformat_minor": 5
}
